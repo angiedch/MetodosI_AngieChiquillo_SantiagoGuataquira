{
 "cells": [
  {
   "cell_type": "code",
   "execution_count": 63,
   "metadata": {},
   "outputs": [
    {
     "name": "stdout",
     "output_type": "stream",
     "text": [
      "0.18046042171636997\n",
      "[-2.13030165e-07 -2.10830920e-07  1.80460422e-01  1.80460422e-01]\n"
     ]
    },
    {
     "data": {
      "text/plain": [
       "[<matplotlib.lines.Line2D at 0x1ecca188f40>]"
      ]
     },
     "execution_count": 63,
     "metadata": {},
     "output_type": "execute_result"
    },
    {
     "data": {
      "image/png": "[encoded data removed]",
      "text/plain": [
       "<Figure size 432x288 with 1 Axes>"
      ]
     },
     "metadata": {
      "needs_background": "light"
     },
     "output_type": "display_data"
    }
   ],
   "source": [
    "import numpy as np \n",
    "import matplotlib.pyplot as mp \n",
    "\n",
    "def funcion(x):\n",
    "    return 3*x**5 + 5*x**4-x**3 \n",
    "\n",
    "def derivada(f,x,h=1e-6):\n",
    "    return (f(x+h)-f(x-h))/(2*h)\n",
    "\n",
    "def newtonraphson(f,df,xn,itmax=100,precision=1e-8):\n",
    "    error=1\n",
    "    it=0\n",
    "    while error > precision and it < itmax:\n",
    "        try:\n",
    "            xn1=xn-(f(xn)/df(f,xn))\n",
    "            error=np.abs(f(xn)/df(f,xn))\n",
    "        except ZeroDivisionError:\n",
    "            print(\"división por cero\")\n",
    "        xn= xn1 \n",
    "        it+=1\n",
    "    if it==itmax:\n",
    "        return False\n",
    "    else:\n",
    "        return xn\n",
    "\n",
    "raiz= newtonraphson(funcion,derivada,1)\n",
    "print(raiz)\n",
    "\n",
    "def todas_las_raices(x,tolerancia=20):\n",
    "    raices=np.array([])\n",
    "    for i in x:\n",
    "        raiz=newtonraphson(funcion,derivada,i)\n",
    "        if raiz != False:\n",
    "            raices=np.append(raices,raiz)\n",
    "\n",
    "    raices.sort()\n",
    "    return raices\n",
    "\n",
    "x1=np.linspace(-2,2,100)\n",
    "x=np.linspace(-1,1,4)\n",
    "y=funcion(x1)\n",
    "raices=todas_las_raices(x)\n",
    "print(raices)\n",
    "\n",
    "mp.plot(x1,y)\n",
    "mp.axhline(y=0,color='g')\n",
    "mp.plot(x,'.-')\n",
    "\n",
    "\n",
    "\n"
   ]
  }
 ],
 "metadata": {
  "kernelspec": {
   "display_name": "base",
   "language": "python",
   "name": "python3"
  },
  "language_info": {
   "codemirror_mode": {
    "name": "ipython",
    "version": 3
   },
   "file_extension": ".py",
   "mimetype": "text/x-python",
   "name": "python",
   "nbconvert_exporter": "python",
   "pygments_lexer": "ipython3",
   "version": "3.8.8"
  },
  "orig_nbformat": 4
 },
 "nbformat": 4,
 "nbformat_minor": 2
}
