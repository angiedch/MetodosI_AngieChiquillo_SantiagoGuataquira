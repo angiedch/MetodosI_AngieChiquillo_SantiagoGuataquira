{
 "cells": [
  {
   "cell_type": "code",
   "execution_count": 41,
   "metadata": {},
   "outputs": [
    {
     "ename": "ModuleNotFoundError",
     "evalue": "No module named 'tqdm'",
     "output_type": "error",
     "traceback": [
      "\u001b[1;31m---------------------------------------------------------------------------\u001b[0m",
      "\u001b[1;31mModuleNotFoundError\u001b[0m                       Traceback (most recent call last)",
      "\u001b[1;32mc:\\Users\\angie\\Desktop\\Repositorio_mc\\MetodosI_AngieChiquillo_SantiagoGuataquira\\Problemas parcial 4.ipynb Cell 1\u001b[0m line \u001b[0;36m3\n\u001b[0;32m      <a href='vscode-notebook-cell:/c%3A/Users/angie/Desktop/Repositorio_mc/MetodosI_AngieChiquillo_SantiagoGuataquira/Problemas%20parcial%204.ipynb#W1sZmlsZQ%3D%3D?line=0'>1</a>\u001b[0m \u001b[39mimport\u001b[39;00m \u001b[39mnumpy\u001b[39;00m \u001b[39mas\u001b[39;00m \u001b[39mnp\u001b[39;00m\n\u001b[0;32m      <a href='vscode-notebook-cell:/c%3A/Users/angie/Desktop/Repositorio_mc/MetodosI_AngieChiquillo_SantiagoGuataquira/Problemas%20parcial%204.ipynb#W1sZmlsZQ%3D%3D?line=1'>2</a>\u001b[0m \u001b[39mimport\u001b[39;00m \u001b[39msympy\u001b[39;00m \u001b[39mas\u001b[39;00m \u001b[39msym\u001b[39;00m\n\u001b[1;32m----> <a href='vscode-notebook-cell:/c%3A/Users/angie/Desktop/Repositorio_mc/MetodosI_AngieChiquillo_SantiagoGuataquira/Problemas%20parcial%204.ipynb#W1sZmlsZQ%3D%3D?line=2'>3</a>\u001b[0m \u001b[39mimport\u001b[39;00m \u001b[39mtqdm\u001b[39;00m\n",
      "\u001b[1;31mModuleNotFoundError\u001b[0m: No module named 'tqdm'"
     ]
    }
   ],
   "source": [
    "import numpy as np\n",
    "import sympy as sym\n",
    "import tqdm"
   ]
  },
  {
   "cell_type": "code",
   "execution_count": 42,
   "metadata": {},
   "outputs": [
    {
     "ename": "ModuleNotFoundError",
     "evalue": "No module named 'tqdm'",
     "output_type": "error",
     "traceback": [
      "\u001b[1;31m---------------------------------------------------------------------------\u001b[0m",
      "\u001b[1;31mModuleNotFoundError\u001b[0m                       Traceback (most recent call last)",
      "\u001b[1;32mc:\\Users\\angie\\Desktop\\Repositorio_mc\\MetodosI_AngieChiquillo_SantiagoGuataquira\\Problemas parcial 4.ipynb Cell 2\u001b[0m line \u001b[0;36m4\n\u001b[0;32m      <a href='vscode-notebook-cell:/c%3A/Users/angie/Desktop/Repositorio_mc/MetodosI_AngieChiquillo_SantiagoGuataquira/Problemas%20parcial%204.ipynb#W0sZmlsZQ%3D%3D?line=1'>2</a>\u001b[0m \u001b[39mimport\u001b[39;00m \u001b[39mnumpy\u001b[39;00m \u001b[39mas\u001b[39;00m \u001b[39mnp\u001b[39;00m\n\u001b[0;32m      <a href='vscode-notebook-cell:/c%3A/Users/angie/Desktop/Repositorio_mc/MetodosI_AngieChiquillo_SantiagoGuataquira/Problemas%20parcial%204.ipynb#W0sZmlsZQ%3D%3D?line=2'>3</a>\u001b[0m \u001b[39mimport\u001b[39;00m \u001b[39msympy\u001b[39;00m \u001b[39mas\u001b[39;00m \u001b[39msym\u001b[39;00m\n\u001b[1;32m----> <a href='vscode-notebook-cell:/c%3A/Users/angie/Desktop/Repositorio_mc/MetodosI_AngieChiquillo_SantiagoGuataquira/Problemas%20parcial%204.ipynb#W0sZmlsZQ%3D%3D?line=3'>4</a>\u001b[0m \u001b[39mfrom\u001b[39;00m \u001b[39mtqdm\u001b[39;00m \u001b[39mimport\u001b[39;00m tqdm\n\u001b[0;32m      <a href='vscode-notebook-cell:/c%3A/Users/angie/Desktop/Repositorio_mc/MetodosI_AngieChiquillo_SantiagoGuataquira/Problemas%20parcial%204.ipynb#W0sZmlsZQ%3D%3D?line=5'>6</a>\u001b[0m x\u001b[39m=\u001b[39m sym\u001b[39m.\u001b[39msymbols(\u001b[39m\"\u001b[39m\u001b[39mx\u001b[39m\u001b[39m\"\u001b[39m)\n\u001b[0;32m      <a href='vscode-notebook-cell:/c%3A/Users/angie/Desktop/Repositorio_mc/MetodosI_AngieChiquillo_SantiagoGuataquira/Problemas%20parcial%204.ipynb#W0sZmlsZQ%3D%3D?line=6'>7</a>\u001b[0m y\u001b[39m=\u001b[39m sym\u001b[39m.\u001b[39msymbols(\u001b[39m\"\u001b[39m\u001b[39my\u001b[39m\u001b[39m\"\u001b[39m)\n",
      "\u001b[1;31mModuleNotFoundError\u001b[0m: No module named 'tqdm'"
     ]
    }
   ],
   "source": [
    "#Optimización-Punto 2\n",
    "import numpy as np\n",
    "import sympy as sym\n",
    "from tqdm import tqdm\n",
    "\n",
    "x= sym.symbols(\"x\")\n",
    "y= sym.symbols(\"y\")\n",
    "z= sym.symbols(\"z\")\n",
    "\n",
    "def f(x,y,z):\n",
    "    f= x**2 + y**2 + z**2 - (2*z) +1\n",
    "    return f\n",
    "\n",
    "def g(x,y,z):\n",
    "    g= (2*x) - (4*y) + (5*z) - 2\n",
    "    return g\n",
    "\n",
    "Dxf = lambda f,x,y,z,h=1e-5: (f(x+h,y,z) - f(x-h,y,z))/(2*h)\n",
    "Dyf = lambda f,x,y,z,h=1e-5: (f(x,y+h,z) - f(x,y-h,z))/(2*h)\n",
    "Dzf = lambda f,x,y,z,h=1e-5: (f(x,y,z+h) - f(x,y,z-h))/(2*h)\n",
    "\n",
    "Dxg = lambda g,x,y,z,h=1e-5: (g(x+h, y, z) - g(x-h,y,z))/(2*h)\n",
    "Dyg = lambda g,x,y,z,h=1e-5: (g(x,y+h,z) - g(x,y-h,z))/(2*h)\n",
    "Dzg = lambda g,x,y,z,h=1e-5: (g(x,y,z+h) - g(x,y,z-h))/(2*h)\n",
    "\n",
    "x0, y0, z0= 0.5, 0.1, 0.2\n",
    "\n",
    "d_f = lambda f,x,y,z: np.array([Dxf(f,x,y,z),Dyf(f,x,y,z), Dzf(f,x,y,z)])\n",
    "d_f= d_f(f,x0,y0,z0)\n",
    "\n",
    "d_g = lambda g,x,y,z: np.array([Dxg(f,x,y,z),Dyg(f,x,y,z), Dzg(f,x,y,z)])\n",
    "d_g= d_g(g,x0,y0,z0)\n",
    "\n",
    "\n",
    "def Minimizer(f, g, N = 1000, gamma = 0.01):\n",
    "    x0, y0, z0= 0.5, 0.1, 0.1\n",
    "    for i in tqdm(range(1,N)):\n",
    "\n",
    "        norma= np.linalg.norm(d_g)**2\n",
    "        g_n= g(x0,y0,z0)\n",
    "\n",
    "        x0-=gamma* ((d_f[0]-d_g[0]*g_n)/norma)\n",
    "        y0-=gamma* ((d_f[1]-d_g[1]*g_n)/norma)\n",
    "        z0-=gamma* ((d_f[2]-d_g[2]*g_n)/norma)\n",
    "        \n",
    "        \n",
    "    return f(x0,y0,z0)\n",
    "\n",
    "r= Minimizer(f,g)\n",
    "print(\"El mínimo de f(x,y,z) es \" + str(r))"
   ]
  },
  {
   "cell_type": "code",
   "execution_count": 37,
   "metadata": {},
   "outputs": [
    {
     "name": "stdout",
     "output_type": "stream",
     "text": [
      "[2*x, 2*y, 2*z - 2]\n",
      "1/5\n"
     ]
    }
   ],
   "source": [
    "import sympy as sp\n",
    "\n",
    "# Definir las variables\n",
    "x, y,z = sp.symbols('x y z')\n",
    "\n",
    "# Definir la función objetivo\n",
    "f = x**2+y**2+z**2-2*z+1\n",
    "\n",
    "# Definir la restricción\n",
    "g = 2*x -4*y +5*z-2\n",
    "\n",
    "# Calcular el gradiente de la función objetivo y la restricción\n",
    "grad_f = [sp.diff(f, var) for var in (x, y,z)]\n",
    "grad_g = [sp.diff(g, var) for var in (x, y,z)]\n",
    "print(grad_f)\n",
    "# Definir el multiplicador de Lagrange\n",
    "lambda_ = sp.symbols('lambda')\n",
    "\n",
    "L = sp.Matrix(grad_f) - lambda_ * sp.Matrix(grad_g)\n",
    "\n",
    "N = sp.Matrix([[2*x -4*y +5*z-2]])\n",
    "\n",
    "L = L.row_insert(L.rows, N) # Insertar la nueva fila al final de la matriz original\n",
    "\n",
    "tes=sp.solve(L, [x, y, z,lambda_])\n",
    "\n",
    "\n",
    "\n",
    "w = tes[x]**2+ tes[y]**2+tes[z]**2-2*tes[z]+1\n",
    "\n",
    "\n",
    "print(w)"
   ]
  },
  {
   "cell_type": "code",
   "execution_count": 36,
   "metadata": {},
   "outputs": [
    {
     "name": "stdout",
     "output_type": "stream",
     "text": [
      "0.5437\n"
     ]
    }
   ],
   "source": [
    "import numpy as np\n",
    "\n",
    "N=10000\n",
    "\n",
    "contador=0\n",
    "contador1=0\n",
    "inoculados = np.zeros(100)\n",
    "no_inoculados = np.zeros(100)\n",
    "inoculados[:48]=1\n",
    "inoculados[48:60]=2\n",
    "no_inoculados[:6]=1\n",
    "no_inoculados[6:54]=2\n",
    "\n",
    "for _ in range(N):\n",
    "    \n",
    "    np.random.shuffle(no_inoculados)\n",
    "    np.random.shuffle(inoculados)\n",
    "\n",
    "    persona_inoculada= np.random.choice(inoculados)\n",
    "    persona_no_inoculada = np.random.choice(no_inoculados)\n",
    "    \n",
    "    if persona_inoculada==2 or persona_no_inoculada==2:\n",
    "        contador +=1\n",
    "\n",
    "Probabilidad= ((contador)/N)\n",
    "        \n",
    "print(Probabilidad)"
   ]
  }
 ],
 "metadata": {
  "kernelspec": {
   "display_name": "Python 3",
   "language": "python",
   "name": "python3"
  },
  "language_info": {
   "codemirror_mode": {
    "name": "ipython",
    "version": 3
   },
   "file_extension": ".py",
   "mimetype": "text/x-python",
   "name": "python",
   "nbconvert_exporter": "python",
   "pygments_lexer": "ipython3",
   "version": "3.11.6"
  }
 },
 "nbformat": 4,
 "nbformat_minor": 2
}
