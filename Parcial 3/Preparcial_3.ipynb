{
 "cells": [
  {
   "cell_type": "code",
   "execution_count": 12,
   "metadata": {},
   "outputs": [
    {
     "name": "stdout",
     "output_type": "stream",
     "text": [
      "[ 114.6        2092.30070794]\n"
     ]
    }
   ],
   "source": [
    "import numpy as np\n",
    "import matplotlib.pyplot as plt\n",
    "\n",
    "w= 114.6\n",
    "q= 3e-4\n",
    "L= 5\n",
    "g= 10\n",
    "k= 9e-9\n",
    "q=3e-4\n",
    "\n",
    "G = np.array([lambda x,y: x*np.cos(y) - w,\n",
    "     lambda x,y: x*np.sin(y) - ((k*q**2)/(4*L**2*np.sin(y)**2)) - (np.sqrt(2)*(k*q**2)/(2*L**2*np.sin(y)**2))])\n",
    "\n",
    "def GetF(G,r):\n",
    "    \n",
    "    n = r.shape[0]\n",
    "    \n",
    "    v = np.zeros_like(r)\n",
    "    \n",
    "    for i in range(n):\n",
    "        v[i] = G[i](r[0],r[1])\n",
    "        \n",
    "    return v\n",
    "\n",
    "def GetJacobian(f,r,h=1e-6):\n",
    "    \n",
    "    n = r.shape[0]\n",
    "    \n",
    "    J = np.zeros((n,n))\n",
    "    \n",
    "    for i in range(n):\n",
    "        for j in range(n):\n",
    "            \n",
    "            rf = r.copy()\n",
    "            rb = r.copy()\n",
    "            \n",
    "            rf[j] = rf[j] + h\n",
    "            rb[j] = rb[j] - h\n",
    "            \n",
    "            J[i,j] = ( f[i](rf[0],rf[1]) - f[i](rb[0],rb[1]))/(2*h)\n",
    "            \n",
    "    \n",
    "    return J\n",
    "\n",
    "def NewtonRaphson(G,r,itmax=1000,error=1e-9):\n",
    "    \n",
    "    it = 0\n",
    "    d = 1.\n",
    "    dvector = []\n",
    "    \n",
    "    while d > error and it < itmax:\n",
    "        \n",
    "        # Vector actual\n",
    "        rc = r\n",
    "        \n",
    "        F = GetF(G,rc)\n",
    "        J = GetJacobian(G,rc)\n",
    "        InvJ = np.linalg.inv(J)\n",
    "        \n",
    "        r = rc - np.dot(InvJ,F)\n",
    "        \n",
    "        diff = r - rc\n",
    "        \n",
    "        d = np.max( np.abs(diff) )\n",
    "        \n",
    "        dvector.append(d)\n",
    "        \n",
    "        it += 1\n",
    "        \n",
    "    return r,dvector\n",
    "\n",
    "r,dvector = NewtonRaphson(G,np.array([2.,1.]))\n",
    "print(r)\n"
   ]
  }
 ],
 "metadata": {
  "kernelspec": {
   "display_name": "Python 3",
   "language": "python",
   "name": "python3"
  },
  "language_info": {
   "codemirror_mode": {
    "name": "ipython",
    "version": 3
   },
   "file_extension": ".py",
   "mimetype": "text/x-python",
   "name": "python",
   "nbconvert_exporter": "python",
   "pygments_lexer": "ipython3",
   "version": "3.11.6"
  }
 },
 "nbformat": 4,
 "nbformat_minor": 2
}
