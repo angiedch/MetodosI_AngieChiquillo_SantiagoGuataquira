{
 "cells": [
  {
   "cell_type": "code",
   "execution_count": 39,
   "metadata": {},
   "outputs": [
    {
     "name": "stdout",
     "output_type": "stream",
     "text": [
      "5\n"
     ]
    },
    {
     "data": {
      "text/plain": [
       "array([ 7.85971308,  0.42292641, -0.07359224, -0.54064302,  0.01062614])"
      ]
     },
     "execution_count": 39,
     "metadata": {},
     "output_type": "execute_result"
    }
   ],
   "source": [
    "import matplotlib.pyplot as plt \n",
    "import numpy as np\n",
    "\n",
    "A= np.array([[0.2, 0.1, 1, 1, 0],[0.1, 4, -1, 1, -1],[1, -1, 60, 0, -2],[1, 1, 0, 8,4],[0, -1, -2, 4, 700]])\n",
    "b= np.array([1., 2., 3., 4., 5.])\n",
    "\n",
    "\n",
    "def dconjugado (A, b, xk, error=0.01):\n",
    "    \n",
    "    rk = np.dot(A, xk)- b\n",
    "    pk = -rk\n",
    "    k= 0\n",
    "    rk= rk\n",
    "    \n",
    "    while np.linalg.norm(rk) > error:\n",
    "        \n",
    "        c= np.dot(pk, A)\n",
    "        \n",
    "        alphak= (-1*np.dot(rk.T, pk)) / np.dot(c, pk)\n",
    "        xk= xk + alphak * pk\n",
    "        rk= np.dot(A, xk) - b\n",
    "        \n",
    "        d=np.dot(rk.T, A)\n",
    "        betak= np.dot(d, pk) / np.dot(c, pk)\n",
    "        pk= -rk + betak *pk\n",
    "        \n",
    "        k+= 1\n",
    "    print(k)\n",
    "    return xk\n",
    "\n",
    "sol =dconjugado(A,b,np.array([3.,5.,4.,3.,2.]))\n",
    "sol\n"
   ]
  }
 ],
 "metadata": {
  "kernelspec": {
   "display_name": "Python 3",
   "language": "python",
   "name": "python3"
  },
  "language_info": {
   "codemirror_mode": {
    "name": "ipython",
    "version": 3
   },
   "file_extension": ".py",
   "mimetype": "text/x-python",
   "name": "python",
   "nbconvert_exporter": "python",
   "pygments_lexer": "ipython3",
   "version": "3.11.6"
  }
 },
 "nbformat": 4,
 "nbformat_minor": 2
}
