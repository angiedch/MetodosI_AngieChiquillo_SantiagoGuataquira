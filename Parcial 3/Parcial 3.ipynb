{
 "cells": [
  {
   "cell_type": "code",
   "execution_count": 1,
   "metadata": {},
   "outputs": [],
   "source": [
    "import matplotlib.pyplot as plt \n",
    "import numpy as np"
   ]
  },
  {
   "cell_type": "code",
   "execution_count": 2,
   "metadata": {},
   "outputs": [],
   "source": [
    "#Punto 4"
   ]
  },
  {
   "cell_type": "code",
   "execution_count": 3,
   "metadata": {},
   "outputs": [],
   "source": [
    "#Punto 5"
   ]
  },
  {
   "cell_type": "code",
   "execution_count": 4,
   "metadata": {},
   "outputs": [
    {
     "name": "stdout",
     "output_type": "stream",
     "text": [
      "No calculable con SOR\n"
     ]
    },
    {
     "data": {
      "text/plain": [
       "(array([1, 1, 1]), 2)"
      ]
     },
     "execution_count": 4,
     "metadata": {},
     "output_type": "execute_result"
    }
   ],
   "source": [
    "#Punto 7\n",
    "def sor(A,b,x0,w,itmax=1000,tolerancia=1e-14):\n",
    "    x=x0.copy()\n",
    "    sum_k= x.copy()\n",
    "    residuo = np.linalg.norm( np.dot(A,x) - b)\n",
    "    it=0\n",
    "    while residuo>= tolerancia and it < itmax:\n",
    "    \n",
    "        sum_k[:]=0\n",
    "        \n",
    "        for i in range (A.shape[0]):\n",
    "            for j in range (A.shape[1]):\n",
    "                if i != j:\n",
    "                     sum_k[i] += A[i][j] * x[j]\n",
    "            x[i] = (1 - w) * x[i] + (w / A[i][i]) * (b[i] - sum_k[i])\n",
    "        \n",
    "        residuo = np.linalg.norm(np.dot(A, x) - b)\n",
    "        it += 1\n",
    "        \n",
    "        if residuo > 1000:\n",
    "            print('No calculable con SOR')\n",
    "            x[:] = 0.\n",
    "            break\n",
    "    \n",
    "        \n",
    "    return x,it\n",
    "def omega_optimo(A,b,x0,itmax=1000,tolerancia=1e-14):\n",
    "    w=None\n",
    "    iteracion_minima=float('inf')\n",
    "    for w0 in range(1,2):\n",
    "        metodo= sor(A,b,x0,itmax,tolerancia)\n",
    "        iteracion=len(metodo)\n",
    "        \n",
    "        if iteracion< iteracion_minima:\n",
    "            iteracion_minima=iteracion\n",
    "            w=w0   \n",
    "    return w\n",
    "A = np.array([[3,-1,-1],[-1.,3.,1.],[2,1,4]])\n",
    "b = np.array([1.,3.,7.])\n",
    "w=omega_optimo(A,b,np.array([0,0,0]))\n",
    "x=sor(A,b,np.array([0,0,0]),w)\n",
    "x"
   ]
  },
  {
   "cell_type": "code",
   "execution_count": 14,
   "metadata": {},
   "outputs": [
    {
     "data": {
      "text/plain": [
       "'El valor de estado base E0 es [[1.]] y su vector propio es [[-0.40824829]  [ 0.40824829]  [ 0.81649658]]'"
      ]
     },
     "execution_count": 14,
     "metadata": {},
     "output_type": "execute_result"
    }
   ],
   "source": [
    "# punto 11 \n",
    "\n",
    "H= np.array([[1,2,-1],[1,0,1],[4,-4,5]])\n",
    "\n",
    "\n",
    "def autovalor_min (m):\n",
    "    W = np.linalg.inv(m)\n",
    "    \n",
    "    q = np.random.rand(len(W))\n",
    "    n=np.shape(W)[0]\n",
    "    \n",
    "    q1=np.zeros(shape=(n,1))\n",
    "    for i in range(len(q)):\n",
    "        q1[i][0]= q[i]\n",
    "        \n",
    "    for i in range(100):\n",
    "        z= np.dot(W, q1)\n",
    "        q1= z/np.sqrt(np.dot(z.T,z))\n",
    "        valor_min= np.dot(q1.T,W)\n",
    "        valor_min= np.dot(valor_min, q1)\n",
    "    return \"El valor de estado base E0 es \"+ str(1/valor_min) + \" y su vector propio es \" + str(q1).replace(\"\\n\", \" \")\n",
    "autovalor_min(H)\n"
   ]
  }
 ],
 "metadata": {
  "kernelspec": {
   "display_name": "Python 3",
   "language": "python",
   "name": "python3"
  },
  "language_info": {
   "codemirror_mode": {
    "name": "ipython",
    "version": 3
   },
   "file_extension": ".py",
   "mimetype": "text/x-python",
   "name": "python",
   "nbconvert_exporter": "python",
   "pygments_lexer": "ipython3",
   "version": "3.8.8"
  }
 },
 "nbformat": 4,
 "nbformat_minor": 2
}
