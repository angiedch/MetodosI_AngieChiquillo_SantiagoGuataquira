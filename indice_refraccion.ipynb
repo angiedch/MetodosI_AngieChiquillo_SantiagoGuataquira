{
 "cells": [
  {
   "cell_type": "code",
   "execution_count": 5,
   "metadata": {},
   "outputs": [],
   "source": [
    "import yaml \n",
    "\n",
    "def refraccion (archivo):\n",
    "    with open(archivo, \"r\") as ruta:\n",
    "        file= yaml.safe_load(ruta)\n",
    "        \n",
    "    cont = file.split('\\n')[-2]\n",
    "    datos = cont.split('\\t')\n",
    "    tuplas=[]\n",
    "    \n",
    "    for i in datos:\n",
    "        \n",
    "        long, ind = i.split(' ')\n",
    "        x= long, ind\n",
    "        \n",
    "        tuplas.append(x)\n",
    "        \n",
    "    return tuplas\n",
    "        \n",
    "        \n",
    "    \n"
   ]
  },
  {
   "cell_type": "code",
   "execution_count": 11,
   "metadata": {},
   "outputs": [
    {
     "ename": "AttributeError",
     "evalue": "'dict' object has no attribute 'split'",
     "output_type": "error",
     "traceback": [
      "\u001b[1;31m---------------------------------------------------------------------------\u001b[0m",
      "\u001b[1;31mAttributeError\u001b[0m                            Traceback (most recent call last)",
      "Cell \u001b[1;32mIn[11], line 1\u001b[0m\n\u001b[1;32m----> 1\u001b[0m t\u001b[39m=\u001b[39m refraccion(\u001b[39m'\u001b[39;49m\u001b[39mMetodosI_AngieChiquillo_SantiagoGuataquira\u001b[39;49m\u001b[39m\\\u001b[39;49m\u001b[39mTaller_1\u001b[39;49m\u001b[39m\\\u001b[39;49m\u001b[39mVidrio\u001b[39;49m\u001b[39m\\\u001b[39;49m\u001b[39mBF11.yml\u001b[39;49m\u001b[39m'\u001b[39;49m)\n\u001b[0;32m      2\u001b[0m \u001b[39mprint\u001b[39m(t)\n",
      "Cell \u001b[1;32mIn[5], line 7\u001b[0m, in \u001b[0;36mrefraccion\u001b[1;34m(archivo)\u001b[0m\n\u001b[0;32m      4\u001b[0m \u001b[39mwith\u001b[39;00m \u001b[39mopen\u001b[39m(archivo, \u001b[39m\"\u001b[39m\u001b[39mr\u001b[39m\u001b[39m\"\u001b[39m) \u001b[39mas\u001b[39;00m ruta:\n\u001b[0;32m      5\u001b[0m     file\u001b[39m=\u001b[39m yaml\u001b[39m.\u001b[39msafe_load(ruta)\n\u001b[1;32m----> 7\u001b[0m cont \u001b[39m=\u001b[39m file\u001b[39m.\u001b[39;49msplit(\u001b[39m'\u001b[39m\u001b[39m\\n\u001b[39;00m\u001b[39m'\u001b[39m)[\u001b[39m-\u001b[39m\u001b[39m2\u001b[39m]\n\u001b[0;32m      8\u001b[0m datos \u001b[39m=\u001b[39m cont\u001b[39m.\u001b[39msplit(\u001b[39m'\u001b[39m\u001b[39m\\t\u001b[39;00m\u001b[39m'\u001b[39m)\n\u001b[0;32m      9\u001b[0m tuplas\u001b[39m=\u001b[39m[]\n",
      "\u001b[1;31mAttributeError\u001b[0m: 'dict' object has no attribute 'split'"
     ]
    }
   ],
   "source": [
    "t= refraccion('MetodosI_AngieChiquillo_SantiagoGuataquira\\Taller_1\\Vidrio\\BF11.yml')\n",
    "print(t)"
   ]
  }
 ],
 "metadata": {
  "kernelspec": {
   "display_name": "Python 3",
   "language": "python",
   "name": "python3"
  },
  "language_info": {
   "codemirror_mode": {
    "name": "ipython",
    "version": 3
   },
   "file_extension": ".py",
   "mimetype": "text/x-python",
   "name": "python",
   "nbconvert_exporter": "python",
   "pygments_lexer": "ipython3",
   "version": "3.11.5"
  },
  "orig_nbformat": 4
 },
 "nbformat": 4,
 "nbformat_minor": 2
}
