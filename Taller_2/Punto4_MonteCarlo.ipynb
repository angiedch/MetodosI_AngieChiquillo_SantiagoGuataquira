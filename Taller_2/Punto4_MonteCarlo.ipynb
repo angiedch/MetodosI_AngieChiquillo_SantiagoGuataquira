{
 "cells": [
  {
   "cell_type": "code",
   "execution_count": null,
   "metadata": {},
   "outputs": [],
   "source": [
    "import numpy as np\n",
    "import matplotlib.pyplot as plt\n",
    "\n",
    "\n",
    "\n",
    "#4.3\n",
    "R = 3\n",
    "N = 10000\n",
    "x = np.random.uniform(-R,R,N)\n",
    "y = np.random.uniform(-R,R,N)\n",
    "z = np.random.uniform(-R,R,N)\n",
    "\n",
    "suma = 0\n",
    "\n",
    "for i in range(N):\n",
    "    if x[i]**2 + y[i]**2 + z[i]**2 < 1:\n",
    "        suma += np.sin(x[i]**2+ y[i]**2 +z[i]**2)*np.e**(x[i]**2 + y[i]**2 + z[i]**2)\n",
    "        \n",
    "I= (((4*np.pi*R**3)/3)*suma)/N\n",
    "print(I)"
   ]
  }
 ],
 "metadata": {
  "language_info": {
   "name": "python"
  },
  "orig_nbformat": 4
 },
 "nbformat": 4,
 "nbformat_minor": 2
}
