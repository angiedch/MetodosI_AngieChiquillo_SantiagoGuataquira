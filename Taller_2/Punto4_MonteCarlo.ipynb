{
 "cells": [
  {
   "cell_type": "code",
   "execution_count": null,
   "metadata": {},
   "outputs": [],
   "source": [
    "import numpy as np\n",
    "import matplotlib.pyplot as plt\n",
    "\n",
    "#4.1 \n",
    "import numpy as np\n",
    "import matplotlib.pyplot as mp \n",
    "N = 1000000\n",
    "a = 0\n",
    "b = np.pi\n",
    "x = np.random.uniform(a,b,N)\n",
    "h=100\n",
    "def integralmontecarlo(x):\n",
    "    return np.exp(-x)*np.sin(x)\n",
    "\n",
    "fi=integralmontecarlo(x)\n",
    "for i in range(0, N, h):\n",
    "    n = np.random.uniform(a, b, h)  \n",
    "    \n",
    "I= (b-a)*sum(fi)/n\n",
    "Iteorico=0.5*(1+np.exp(-np.pi))\n",
    "error= ((np.abs((Iteorico-I)))/np.abs(Iteorico))*100\n",
    "\n",
    "y=1/np.sqrt(n)\n",
    "\n",
    "\n",
    "mp.scatter(n,error)\n",
    "mp.plot(n,y)\n",
    "\n",
    "\n",
    "mp.show()\n",
    "\n",
    "\n",
    "#4.3\n",
    "R = 3\n",
    "N = 10000\n",
    "x = np.random.uniform(-R,R,N)\n",
    "y = np.random.uniform(-R,R,N)\n",
    "z = np.random.uniform(-R,R,N)\n",
    "\n",
    "suma = 0\n",
    "\n",
    "for i in range(N):\n",
    "    if x[i]**2 + y[i]**2 + z[i]**2 < 1:\n",
    "        suma += np.sin(x[i]**2+ y[i]**2 +z[i]**2)*np.e**(x[i]**2 + y[i]**2 + z[i]**2)\n",
    "        \n",
    "I= (((4*np.pi*R**3)/3)*suma)/N\n",
    "print(I)"
   ]
  }
 ],
 "metadata": {
  "kernelspec": {
   "display_name": "Python 3",
   "language": "python",
   "name": "python3"
  },
  "language_info": {
   "name": "python",
   "version": "3.11.6"
  },
  "orig_nbformat": 4
 },
 "nbformat": 4,
 "nbformat_minor": 2
}
