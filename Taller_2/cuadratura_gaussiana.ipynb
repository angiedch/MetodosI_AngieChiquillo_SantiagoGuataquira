{
 "cells": [
  {
   "cell_type": "code",
   "execution_count": 16,
   "metadata": {},
   "outputs": [],
   "source": [
    "import matplotlib.pyplot as plt\n",
    "import numpy as np\n",
    "import sympy as sym"
   ]
  },
  {
   "cell_type": "code",
   "execution_count": 17,
   "metadata": {},
   "outputs": [
    {
     "name": "stdout",
     "output_type": "stream",
     "text": [
      "x\n"
     ]
    }
   ],
   "source": [
    "#Ejercicio 3.2\n",
    "\n",
    "x = sym.Symbol('x',real=True)\n",
    "y = sym.Symbol('y',real=True)\n",
    "\n",
    "def GetLaguerreRecursive(n, x):\n",
    "    if n==0:\n",
    "        poly = sym.Pow(1,1)\n",
    "    elif n==1:\n",
    "        poly = x\n",
    "    else:\n",
    "        poly = ((2*n-1-x)*GetLaguerreRecursive(n-1, x) - (n-1)*GetLaguerreRecursive(n-2,x))/n\n",
    "   \n",
    "    return sym.simplify(poly)\n",
    "print(GetLaguerreRecursive(1,x)) \n",
    " \n",
    "#derivada\n",
    "def GetDLaguerre (n, x):\n",
    "    Pn= GetLaguerreRecursive(n,x)\n",
    "    return sym.diff(Pn,x,1)\n",
    "    \n",
    "def NewtonRaphson(f,df,xn,itmax=100,precision=1e-8):\n",
    "    error=1\n",
    "    it=0\n",
    "    while error > precision and it < itmax:\n",
    "        try:\n",
    "            xn1=xn-(f(xn)/df(f,xn))\n",
    "            error=np.abs(f(xn)/df(f,xn))\n",
    "        except ZeroDivisionError:\n",
    "            print(\"división por cero\")\n",
    "        xn= xn1 \n",
    "        it+=1\n",
    "    if it==itmax:\n",
    "        return False\n",
    "    else:\n",
    "        return xn\n",
    "    \n",
    "def GetRootsGLag(funcion, derivada, x,tolerancia=20):\n",
    "    raices=np.array([])\n",
    "    \n",
    "    for i in x:\n",
    "        \n",
    "        raiz=NewtonRaphson(funcion,derivada,i)\n",
    "        croot = np.round( raiz, tolerancia )\n",
    "        if croot not in raices:\n",
    "            raices=np.append(raices,croot)\n",
    "\n",
    "    raices.sort()\n",
    "    return raices\n",
    "\n",
    "def GetAllRootsLag(n):\n",
    "    xn = np.linspace(-1,1,100)\n",
    "    \n",
    "    Laguerre = []\n",
    "    DLaguerre = []\n",
    "    \n",
    "    for i in range(n+(n-1)*np.sqrt(n)):\n",
    "        Laguerre.append(GetLaguerreRecursive(i,x))\n",
    "        DLaguerre.append(GetDLLaguerre(i,x))\n",
    "    \n",
    "    poly = sym.lambdify([x],Laguerre[n],'numpy')\n",
    "    Dpoly = sym.lambdify([x],DLaguerre[n],'numpy')\n",
    "    Roots = GetRootsGLag(poly,Dpoly,xn)\n",
    "    \n",
    "    return Roots\n",
    "\n",
    "def GetWeightsGLag(n):\n",
    "\n",
    "    raices = GetAllRootsGLag(n)\n",
    "\n",
    "    DLaguerre = []\n",
    "    \n",
    "    for i in range(n+1):\n",
    "        DLaguerre.append(GetDLaguerre(i,x))\n",
    "    \n",
    "    Dpoly = sym.lambdify([x],DLaguerre[n],'numpy')\n",
    "    Weights = raices/((n+1)**2)*\n",
    "    \n",
    "    return Weights\n"
   ]
  },
  {
   "cell_type": "code",
   "execution_count": null,
   "metadata": {},
   "outputs": [],
   "source": []
  }
 ],
 "metadata": {
  "kernelspec": {
   "display_name": "Python 3",
   "language": "python",
   "name": "python3"
  },
  "language_info": {
   "codemirror_mode": {
    "name": "ipython",
    "version": 3
   },
   "file_extension": ".py",
   "mimetype": "text/x-python",
   "name": "python",
   "nbconvert_exporter": "python",
   "pygments_lexer": "ipython3",
   "version": "3.11.5"
  },
  "orig_nbformat": 4
 },
 "nbformat": 4,
 "nbformat_minor": 2
}
