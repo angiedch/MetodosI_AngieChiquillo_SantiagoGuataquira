{
 "cells": [
  {
   "cell_type": "code",
   "execution_count": 6,
   "metadata": {},
   "outputs": [
    {
     "data": {
      "text/plain": [
       "0.12144185397510181"
      ]
     },
     "execution_count": 6,
     "metadata": {},
     "output_type": "execute_result"
    }
   ],
   "source": [
    "#CÓDIGO PARCIAL\n",
    "\n",
    "import matplotlib.pyplot as plt\n",
    "import numpy as np\n",
    "import sympy as sym\n",
    "\n",
    "h= 6.626e-34\n",
    "k= 1.3806e-23\n",
    "c= 3e8\n",
    "T= 5772\n",
    "lamb_0= 100e-9\n",
    "lamb_1= 400e-9\n",
    "v_0= c/lamb_0 \n",
    "v_1= c/lamb_1\n",
    "\n",
    "#Laguerre denominador\n",
    "N = 20\n",
    "Roots_lag,Weights_lag = np.polynomial.laguerre.laggauss(N)\n",
    "#Roots_lag,Weights_lag\n",
    "\n",
    "f1= lambda x: ((x**3)*((np.exp(x)-1))/((np.exp(x))-2+(1/np.exp(x))))\n",
    "f= lambda x: (x**3)/(np.exp(x)-1)\n",
    "\n",
    "I_denom = np.sum( f1(Roots_lag)*Weights_lag )\n",
    "\n",
    "\n",
    "#Legendre numerador\n",
    "Roots_leg, Weights_leg = np.polynomial.legendre.leggauss(N)\n",
    "#Roots_leg, Weights_leg\n",
    "\n",
    "def I_num(f, a, b, N):\n",
    "    pesos= Weights_leg\n",
    "    raices= Roots_leg\n",
    "    I= 0\n",
    "    \n",
    "    for i in range(N):\n",
    "        I+=  pesos[i]* f(1/2*(raices[i]*(b-a)+a+b))\n",
    "        \n",
    "    I*= (b-a)/2\n",
    "    \n",
    "    return I\n",
    "\n",
    "#I_num(f,a, b, N)\n",
    "a= (h*v_1)/(k*T)\n",
    "b= (h*v_0)/(k*T)\n",
    "\n",
    "Fraccion= I_num(f,a, b, N)/I_denom\n",
    "Fraccion"
   ]
  },
  {
   "cell_type": "code",
   "execution_count": 24,
   "metadata": {},
   "outputs": [
    {
     "name": "stderr",
     "output_type": "stream",
     "text": [
      "C:\\Users\\angie\\AppData\\Local\\Temp\\ipykernel_56468\\2449326786.py:7: DeprecationWarning: `np.math` is a deprecated alias for the standard library `math` module (Deprecated Numpy 1.25). Replace usages of `np.math` with `math`\n",
      "  poly = sym.exp(x)*sym.diff(y,x,n)/( np.math.factorial(n) )\n"
     ]
    },
    {
     "data": {
      "text/plain": [
       "6.000000000000002"
      ]
     },
     "execution_count": 24,
     "metadata": {},
     "output_type": "execute_result"
    }
   ],
   "source": [
    "\n",
    "x = sym.Symbol('x',real=True)\n",
    "n=2\n",
    "def GetLaguerre(n,x):\n",
    "\n",
    "    y = sym.exp(-x)*x**n\n",
    "    \n",
    "    poly = sym.exp(x)*sym.diff(y,x,n)/( np.math.factorial(n) )\n",
    "    \n",
    "    return poly\n",
    "GetLaguerre(n, x)\n",
    "\n",
    "Roots_lag,Weights_lag = np.polynomial.laguerre.laggauss(N)\n",
    "Roots\n",
    "\n",
    "\n",
    "f= (1/sym.exp(x))*((x-Roots[1])/(Roots[0]-Roots[1]))\n",
    " \n",
    "peso_1= sym.integrate( f, (x, 0, np.inf))\n",
    "peso_1\n",
    "\n",
    "f1=(1/sym.exp(x))*((x-Roots[0])/(Roots[1]-Roots[0]))\n",
    "peso_2= sym.integrate( f1, (x, 0, np.inf))\n",
    "peso_2\n",
    "\n",
    "Roots_lag,Weights_lag = np.polynomial.laguerre.laggauss(3)\n",
    "Roots\n",
    "f2= lambda x: x**3\n",
    "suma= 0\n",
    "for i in range(3):\n",
    "    suma+= Weights_lag[i]*f2(Roots_lag[i])\n",
    "\n",
    "suma"
   ]
  }
 ],
 "metadata": {
  "kernelspec": {
   "display_name": "Python 3",
   "language": "python",
   "name": "python3"
  },
  "language_info": {
   "codemirror_mode": {
    "name": "ipython",
    "version": 3
   },
   "file_extension": ".py",
   "mimetype": "text/x-python",
   "name": "python",
   "nbconvert_exporter": "python",
   "pygments_lexer": "ipython3",
   "version": "3.11.5"
  },
  "orig_nbformat": 4
 },
 "nbformat": 4,
 "nbformat_minor": 2
}
