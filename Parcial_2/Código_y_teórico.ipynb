{
 "cells": [
  {
   "cell_type": "code",
   "execution_count": 14,
   "metadata": {},
   "outputs": [
    {
     "data": {
      "text/plain": [
       "-14847.3697305315"
      ]
     },
     "execution_count": 14,
     "metadata": {},
     "output_type": "execute_result"
    }
   ],
   "source": [
    "#CÓDIGO PARCIAL\n",
    "\n",
    "import matplotlib.pyplot as plt\n",
    "import numpy as np\n",
    "import sympy as sym\n",
    "\n",
    "h= 6.626e-34\n",
    "k= 1.3806e-23\n",
    "c= 3e8\n",
    "T= 5772\n",
    "lamb_0= 100e-9\n",
    "lamb_1= 400e-9\n",
    "v_0= c/lamb_0 \n",
    "v_1= c/lamb_1\n",
    "\n",
    "#Laguerre denominador\n",
    "N = 20\n",
    "Roots_lag,Weights_lag = np.polynomial.laguerre.laggauss(N)\n",
    "#Roots_lag,Weights_lag\n",
    "\n",
    "f= lambda x: ((x**3)*((np.exp(x)-1))/((np.exp(x))-2+(1/np.exp(x))))\n",
    "\n",
    "I_denom = np.sum( f(Roots_lag)*Weights_lag )\n",
    "#I_denom\n",
    "\n",
    "b= (h*v_1)/(k*T)\n",
    "a= (h*v_0)/(k*T)\n",
    "\n",
    "#Legendre numerador\n",
    "Roots_leg, Weights_leg = np.polynomial.legendre.leggauss(N)\n",
    "#Roots_leg, Weights_leg\n",
    "\n",
    "def I_num(f, a, b, N):\n",
    "    pesos= Weights_leg\n",
    "    raices= Roots_leg\n",
    "    I= 0\n",
    "    \n",
    "    for i in range(N):\n",
    "        I+=  pesos[i]* f(1/2*(raices[i]*(b-a)+a+b))\n",
    "        \n",
    "    I*= (b-a)/2\n",
    "    return I\n",
    "\n",
    "#I_num(f,a, b, N)\n",
    "\n",
    "Fraccion= I_num(f,a, b, N)/I_denom\n",
    "Fraccion"
   ]
  }
 ],
 "metadata": {
  "kernelspec": {
   "display_name": "Python 3",
   "language": "python",
   "name": "python3"
  },
  "language_info": {
   "codemirror_mode": {
    "name": "ipython",
    "version": 3
   },
   "file_extension": ".py",
   "mimetype": "text/x-python",
   "name": "python",
   "nbconvert_exporter": "python",
   "pygments_lexer": "ipython3",
   "version": "3.11.5"
  },
  "orig_nbformat": 4
 },
 "nbformat": 4,
 "nbformat_minor": 2
}
