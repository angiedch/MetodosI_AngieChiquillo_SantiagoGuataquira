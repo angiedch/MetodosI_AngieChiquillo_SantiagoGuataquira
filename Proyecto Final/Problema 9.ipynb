{
 "cells": [
  {
   "cell_type": "code",
   "execution_count": 2,
   "metadata": {},
   "outputs": [],
   "source": [
    "import numpy as np\n",
    "import matplotlib.pyplot as plt\n",
    "import time\n",
    "import copy\n"
   ]
  },
  {
   "cell_type": "code",
   "execution_count": 6,
   "metadata": {},
   "outputs": [
    {
     "ename": "NameError",
     "evalue": "name 'f' is not defined",
     "output_type": "error",
     "traceback": [
      "\u001b[1;31m---------------------------------------------------------------------------\u001b[0m",
      "\u001b[1;31mNameError\u001b[0m                                 Traceback (most recent call last)",
      "\u001b[1;32mc:\\Users\\angie\\Desktop\\Repositorio_mc\\MetodosI_AngieChiquillo_SantiagoGuataquira\\Proyecto Final\\Problema 9.ipynb Cell 2\u001b[0m line \u001b[0;36m5\n\u001b[0;32m     <a href='vscode-notebook-cell:/c%3A/Users/angie/Desktop/Repositorio_mc/MetodosI_AngieChiquillo_SantiagoGuataquira/Proyecto%20Final/Problema%209.ipynb#W1sZmlsZQ%3D%3D?line=48'>49</a>\u001b[0m         plt\u001b[39m.\u001b[39mshow()\n\u001b[0;32m     <a href='vscode-notebook-cell:/c%3A/Users/angie/Desktop/Repositorio_mc/MetodosI_AngieChiquillo_SantiagoGuataquira/Proyecto%20Final/Problema%209.ipynb#W1sZmlsZQ%3D%3D?line=50'>51</a>\u001b[0m         time\u001b[39m.\u001b[39msleep(\u001b[39m0.005\u001b[39m)\n\u001b[1;32m---> <a href='vscode-notebook-cell:/c%3A/Users/angie/Desktop/Repositorio_mc/MetodosI_AngieChiquillo_SantiagoGuataquira/Proyecto%20Final/Problema%209.ipynb#W1sZmlsZQ%3D%3D?line=52'>53</a>\u001b[0m Robots \u001b[39m=\u001b[39m GetRobots(\u001b[39m10\u001b[39;49m)\n\u001b[0;32m     <a href='vscode-notebook-cell:/c%3A/Users/angie/Desktop/Repositorio_mc/MetodosI_AngieChiquillo_SantiagoGuataquira/Proyecto%20Final/Problema%209.ipynb#W1sZmlsZQ%3D%3D?line=53'>54</a>\u001b[0m TimeEvolution(Robots,t)\n",
      "\u001b[1;32mc:\\Users\\angie\\Desktop\\Repositorio_mc\\MetodosI_AngieChiquillo_SantiagoGuataquira\\Proyecto Final\\Problema 9.ipynb Cell 2\u001b[0m line \u001b[0;36m2\n\u001b[0;32m     <a href='vscode-notebook-cell:/c%3A/Users/angie/Desktop/Repositorio_mc/MetodosI_AngieChiquillo_SantiagoGuataquira/Proyecto%20Final/Problema%209.ipynb#W1sZmlsZQ%3D%3D?line=21'>22</a>\u001b[0m Robots \u001b[39m=\u001b[39m []\n\u001b[0;32m     <a href='vscode-notebook-cell:/c%3A/Users/angie/Desktop/Repositorio_mc/MetodosI_AngieChiquillo_SantiagoGuataquira/Proyecto%20Final/Problema%209.ipynb#W1sZmlsZQ%3D%3D?line=23'>24</a>\u001b[0m \u001b[39mfor\u001b[39;00m i \u001b[39min\u001b[39;00m \u001b[39mrange\u001b[39m(N):\n\u001b[1;32m---> <a href='vscode-notebook-cell:/c%3A/Users/angie/Desktop/Repositorio_mc/MetodosI_AngieChiquillo_SantiagoGuataquira/Proyecto%20Final/Problema%209.ipynb#W1sZmlsZQ%3D%3D?line=24'>25</a>\u001b[0m     r \u001b[39m=\u001b[39m Robot(f\u001b[39m=\u001b[39mf,Id\u001b[39m=\u001b[39mi)\n\u001b[0;32m     <a href='vscode-notebook-cell:/c%3A/Users/angie/Desktop/Repositorio_mc/MetodosI_AngieChiquillo_SantiagoGuataquira/Proyecto%20Final/Problema%209.ipynb#W1sZmlsZQ%3D%3D?line=25'>26</a>\u001b[0m     Robots\u001b[39m.\u001b[39mappend(r)\n\u001b[0;32m     <a href='vscode-notebook-cell:/c%3A/Users/angie/Desktop/Repositorio_mc/MetodosI_AngieChiquillo_SantiagoGuataquira/Proyecto%20Final/Problema%209.ipynb#W1sZmlsZQ%3D%3D?line=27'>28</a>\u001b[0m \u001b[39mreturn\u001b[39;00m Robots\n",
      "\u001b[1;31mNameError\u001b[0m: name 'f' is not defined"
     ]
    }
   ],
   "source": [
    "\n",
    "class Robot:\n",
    "    \n",
    "    def __init__(self,dt= 0.1,Id=0):\n",
    "        \n",
    "        self.Id = Id\n",
    "        self.dt = dt\n",
    "        \n",
    "        self.r = np.array([0.,0.])\n",
    "        \n",
    "        theta = np.random.uniform(0.,2*np.pi)\n",
    "        self.v = np.array([1.*np.cos(theta),1.*np.sin(theta)]) \n",
    "        \n",
    "    def Evolution(self):\n",
    "        \n",
    "        self.r += self.v*self.dt\n",
    "\n",
    "\n",
    "   \n",
    "#Genero 200 robots\n",
    "def GetRobots(N= 200):\n",
    "    \n",
    "    Robots = []\n",
    "    \n",
    "    for i in range(N):\n",
    "        r = Robot(f=f,Id=i)\n",
    "        Robots.append(r)\n",
    "        \n",
    "    return Robots\n",
    "\n",
    "t = np.arange(0., 5., 0.1)\n",
    "def TimeEvolution(Robots,t):\n",
    "    \n",
    "    for it in range(t.shape[0]):\n",
    "        \n",
    "        # Actualizamos\n",
    "        for i,p in enumerate(Robots):\n",
    "            p.Evolution()\n",
    "        \n",
    "        clear_output(wait=True)\n",
    "        \n",
    "        ax = Plotter(t[it])\n",
    "            \n",
    "        for i,p in enumerate(Robots):         \n",
    "            ax.scatter(p.r[0],p.r[1],label='Id {} s'.format(p.Id))\n",
    "            ax.quiver(p.r[0],p.r[1],p.v[0],p.v[1])\n",
    "       \n",
    "        ax.legend(loc='upper center', ncol=1, bbox_to_anchor=(1.2,0.9),frameon=False,fontsize=10)\n",
    "        \n",
    "        plt.show()\n",
    "        \n",
    "        time.sleep(0.005)\n",
    "\n",
    "Robots = GetRobots(10)\n",
    "TimeEvolution(Robots,t)"
   ]
  }
 ],
 "metadata": {
  "kernelspec": {
   "display_name": "Python 3",
   "language": "python",
   "name": "python3"
  },
  "language_info": {
   "codemirror_mode": {
    "name": "ipython",
    "version": 3
   },
   "file_extension": ".py",
   "mimetype": "text/x-python",
   "name": "python",
   "nbconvert_exporter": "python",
   "pygments_lexer": "ipython3",
   "version": "3.11.6"
  }
 },
 "nbformat": 4,
 "nbformat_minor": 2
}
