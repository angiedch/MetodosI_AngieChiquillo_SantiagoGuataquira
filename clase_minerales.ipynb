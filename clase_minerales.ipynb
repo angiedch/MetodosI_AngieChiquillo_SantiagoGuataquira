{
 "cells": [
  {
   "cell_type": "code",
   "execution_count": null,
   "metadata": {},
   "outputs": [],
   "source": [
    "class Minerales:\n",
    "    def __init__ (self, nombre, dureza, lustre, rompimiento_por_fractura, color, posicion, sistema_cristalino, specific_gravity):\n",
    "        self.nombre = nombre\n",
    "        self.dureza = dureza\n",
    "        self.lustre = lustre\n",
    "        self.rompimiento_por_fractura = rompimiento_por_fractura\n",
    "        self.color = color\n",
    "        self.posicion = posicion\n",
    "        self.sistema_cristalino = sistema_cristalino\n",
    "        self.specific_gravity = specific_gravity\n",
    "        "
   ]
  }
 ],
 "metadata": {
  "language_info": {
   "name": "python"
  },
  "orig_nbformat": 4
 },
 "nbformat": 4,
 "nbformat_minor": 2
}
