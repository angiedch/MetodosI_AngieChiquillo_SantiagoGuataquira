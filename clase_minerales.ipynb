{
 "cells": [
  {
   "cell_type": "code",
   "execution_count": 2,
   "metadata": {},
   "outputs": [],
   "source": [
    "import matplotlib.pyplot as plt\n",
    "import numpy as np"
   ]
  },
  {
   "cell_type": "code",
   "execution_count": null,
   "metadata": {},
   "outputs": [],
   "source": [
    "class Minerales:\n",
    "    def __init__ (self, nombre, dureza, lustre, rompimiento_por_fractura, color, composicion, sistema_cristalino, specific_gravity):\n",
    "        self.nombre = nombre\n",
    "        self.dureza = dureza\n",
    "        self.lustre = lustre\n",
    "        self.rompimiento_por_fractura = rompimiento_por_fractura\n",
    "        self.color = color\n",
    "        self.composicion = composicion\n",
    "        self.sistema_cristalino = sistema_cristalino\n",
    "        self.specific_gravity = specific_gravity\n",
    "        \n",
    "    def silicato (self):\n",
    "        \n",
    "        if \"Si\" and \"O\" in self.composicion:\n",
    "            print(\"El mineral es un silicato\")    \n",
    "        else:\n",
    "            print(\"El mineral no es un silicato\")\n",
    "            \n",
    "    def densidad (self):\n",
    "        \n",
    "        print(f'{self.specific_gravity} g/cm^3')\n",
    "        \n",
    "    def mostrar_color (self):\n",
    "        rgb = tuple(int(self[i:i+2], 16) for i in (1, 3, 5))\n",
    "        print(rgb)\n",
    "        color = np.full((50, 50, 3), rgb)\n",
    "    \n",
    "        plt.imshow(color)\n",
    "        plt.axis('off')\n",
    "        plt.show()\n",
    "        \n",
    "    def imprimir_datos (self):\n",
    "        \n",
    "        print(f'La dureza del mineral es {self.dureza}')\n",
    "        print(f'El rompimiento del mineral es {self.rompimiento_por_fractura}')\n",
    "        print(f'El sistema cristalino del mineral es {self.sistema_cristalino}')\n",
    "        \n",
    "    \n",
    "        \n",
    "        "
   ]
  }
 ],
 "metadata": {
  "kernelspec": {
   "display_name": "Python 3",
   "language": "python",
   "name": "python3"
  },
  "language_info": {
   "codemirror_mode": {
    "name": "ipython",
    "version": 3
   },
   "file_extension": ".py",
   "mimetype": "text/x-python",
   "name": "python",
   "nbconvert_exporter": "python",
   "pygments_lexer": "ipython3",
   "version": "3.11.5"
  },
  "orig_nbformat": 4
 },
 "nbformat": 4,
 "nbformat_minor": 2
}
