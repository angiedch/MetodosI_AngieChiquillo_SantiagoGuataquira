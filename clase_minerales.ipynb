{
 "cells": [
  {
   "cell_type": "code",
   "execution_count": 2,
   "metadata": {},
   "outputs": [],
   "source": [
    "import matplotlib.pyplot as plt\n",
    "import numpy as np"
   ]
  },
  {
   "cell_type": "code",
   "execution_count": null,
   "metadata": {},
   "outputs": [],
   "source": [
    "#Clase Minerales\n",
    "class Minerales:\n",
    "    def __init__ (self, nombre, dureza, lustre, rompimiento_por_fractura, color, composicion, sistema_cristalino, specific_gravity):\n",
    "        self.nombre = nombre\n",
    "        self.dureza = dureza\n",
    "        self.lustre = lustre\n",
    "        self.rompimiento_por_fractura = rompimiento_por_fractura\n",
    "        self.color = color\n",
    "        self.composicion = composicion\n",
    "        self.sistema_cristalino = sistema_cristalino\n",
    "        self.specific_gravity = specific_gravity\n",
    "        \n",
    "    def silicato (self):\n",
    "        \n",
    "        if \"Si\" and \"O\" in self.composicion:\n",
    "            print(\"El mineral es un silicato\")    \n",
    "        else:\n",
    "            print(\"El mineral no es un silicato\")\n",
    "            \n",
    "    def densidad (self):\n",
    "        \n",
    "        print(f'{self.specific_gravity} g/cm^3')\n",
    "        \n",
    "    def mostrar_color (self):\n",
    "        rgb = tuple(int(self[i:i+2], 16) for i in (1, 3, 5))\n",
    "        print(rgb)\n",
    "        color = np.full((50, 50, 3), rgb)\n",
    "    \n",
    "        plt.imshow(color)\n",
    "        plt.axis('off')\n",
    "        plt.show()\n",
    "        \n",
    "    def imprimir_datos (self):\n",
    "        \n",
    "        print(f'La dureza del mineral es {self.dureza}.')\n",
    "        print(f'El rompimiento del mineral es {self.rompimiento_por_fractura}.')\n",
    "        print(f'El sistema cristalino del mineral es {self.sistema_cristalino}.')\n",
    "        "
   ]
  },
  {
   "cell_type": "code",
   "execution_count": 10,
   "metadata": {},
   "outputs": [
    {
     "name": "stdout",
     "output_type": "stream",
     "text": [
      "nombre\tdureza\trompimiento_por_fractura\tcolor\tcomposicion\tlustre\tspecific_gravity\tsistema cristalino\n",
      "grafito\t1.5\tFALSE\t#5f6168\tC\tMETçLICO\t2.2\tHEXAGONAL\n",
      "galena\t2.5\tFALSE\t#1c1a1e\tPbS\tMETçLICO\t7.6\tCòBICO\n",
      "magnetita\t6\tTRUE\t#141319\tFe3O4\tMETçLICO\t5.2\tISOMƒTRICO\n",
      "pirita\t6.5\tTRUE\t#b99833\tFeS2\tMETçLICO\t5\tCòBICO\n",
      "hematita\t6\tTRUE\t#691f2f\tFe2O3\tMETçLICO/NO METçLICO\t5.3\tTRIGONAL\n",
      "talco\t1\tFALSE\t#e9edf5\tMg3Si4O10(OH)2\tNO METçLICO\t2.7\tMONOCLêNICO\n",
      "sulfur\t2\tTRUE\t#E8DE35\tS\tNO METçLICO\t2.1\tORTORRîMBICO\n",
      "selenita\t2\tFALSE\t#e0ddd7\tCaSO4á2H2O\tNO METçLICO\t2.3\tMONOCLêNICO\n",
      "moscovita\t2.25\tFALSE\t#7a785a\tKAl3Si3O10(OH)2\tNO METçLICO\t2.8\tMONOCLêNICO\n",
      "halita\t2.5\tFALSE\t#cb9da1\tNaCl\tNO METçLICO\t2.2\tCòBICO\n",
      "biotita\t2.75\tFALSE\t#282414\tK(MgFe)3AlSi3O10(OH)2\tNO METçLICO\t3\tMONOCLêNICO\n",
      "calcita\t3\tFALSE\t#e5b569\tCaCO3\tNO METçLICO\t2.7\tTRIGONAL\n",
      "dolomita\t3.5\tFALSE\t#daaa8c\tCaMg(CO3)2\tNO METçLICO\t2.8\tTRIGONAL\n",
      "fluorita\t4\tFALSE\t#7a5596\tCaF2\tNO METçLICO\t3.2\tCòBICO\n",
      "olivino\t6.5\tTRUE\t#9ab973\t(FeMg)2SiO4\tNO METçLICO\t3.9\tORTORRîMBICO\n",
      "cuarzo\t7\tTRUE\t#f7cac9\tSiO2\tNO METçLICO\t2.65\tTRIGONAL\n",
      "granate\t7\tTRUE\t#4b0002\tFe3Al2Si3O12\tNO METçLICO\t3.9\tCòBICO\n"
     ]
    }
   ],
   "source": [
    "def archivo_minerales(archivo):\n",
    "    file= open(archivo)\n",
    "    cont= file.read()\n",
    "    \n",
    "    arreglo={}\n",
    "    mineral=[]\n",
    "    \n",
    "    for i in cont:\n",
    "        x= i\n",
    "      \n",
    "    return x\n",
    "\n",
    "print(archivo_minerales('Taller_1\\minerales.txt'))"
   ]
  }
 ],
 "metadata": {
  "kernelspec": {
   "display_name": "Python 3",
   "language": "python",
   "name": "python3"
  },
  "language_info": {
   "codemirror_mode": {
    "name": "ipython",
    "version": 3
   },
   "file_extension": ".py",
   "mimetype": "text/x-python",
   "name": "python",
   "nbconvert_exporter": "python",
   "pygments_lexer": "ipython3",
   "version": "3.11.5"
  },
  "orig_nbformat": 4
 },
 "nbformat": 4,
 "nbformat_minor": 2
}
