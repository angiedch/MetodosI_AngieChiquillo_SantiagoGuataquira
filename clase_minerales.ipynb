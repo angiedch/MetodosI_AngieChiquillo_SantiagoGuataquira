{
 "cells": [
  {
   "cell_type": "code",
   "execution_count": 2,
   "metadata": {},
   "outputs": [],
   "source": [
    "import matplotlib.pyplot as plt\n",
    "import numpy as np"
   ]
  },
  {
   "cell_type": "code",
   "execution_count": null,
   "metadata": {},
   "outputs": [],
   "source": [
    "#Clase Minerales\n",
    "class Minerales:\n",
    "    def __init__ (self, nombre, dureza, lustre, rompimiento_por_fractura, color, composicion, sistema_cristalino, specific_gravity):\n",
    "        self.nombre = nombre\n",
    "        self.dureza = dureza\n",
    "        self.lustre = lustre\n",
    "        self.rompimiento_por_fractura = rompimiento_por_fractura\n",
    "        self.color = color\n",
    "        self.composicion = composicion\n",
    "        self.sistema_cristalino = sistema_cristalino\n",
    "        self.specific_gravity = specific_gravity\n",
    "        \n",
    "    def silicato (self):\n",
    "        \n",
    "        if \"Si\" and \"O\" in self.composicion:\n",
    "            print(\"El mineral es un silicato\")    \n",
    "        else:\n",
    "            print(\"El mineral no es un silicato\")\n",
    "            \n",
    "    def densidad (self):\n",
    "        \n",
    "        print(f'{self.specific_gravity} g/cm^3')\n",
    "        \n",
    "    def mostrar_color (self):\n",
    "        rgb = tuple(int(self[i:i+2], 16) for i in (1, 3, 5))\n",
    "        print(rgb)\n",
    "        color = np.full((50, 50, 3), rgb)\n",
    "    \n",
    "        plt.imshow(color)\n",
    "        plt.axis('off')\n",
    "        plt.show()\n",
    "        \n",
    "    def imprimir_datos (self):\n",
    "        \n",
    "        print(f'La dureza del mineral es {self.dureza}.')\n",
    "        print(f'El rompimiento del mineral es {self.rompimiento_por_fractura}.')\n",
    "        print(f'El sistema cristalino del mineral es {self.sistema_cristalino}.')\n",
    "        "
   ]
  },
  {
   "cell_type": "code",
   "execution_count": 12,
   "metadata": {},
   "outputs": [
    {
     "name": "stdout",
     "output_type": "stream",
     "text": [
      "{'grafito': ['1.5', 'FALSE', '#5f6168', 'C', 'METçLICO', '2.2', 'HEXAGONAL'], 'galena': ['2.5', 'FALSE', '#1c1a1e', 'PbS', 'METçLICO', '7.6', 'CòBICO'], 'magnetita': ['6', 'TRUE', '#141319', 'Fe3O4', 'METçLICO', '5.2', 'ISOMƒTRICO'], 'pirita': ['6.5', 'TRUE', '#b99833', 'FeS2', 'METçLICO', '5', 'CòBICO'], 'hematita': ['6', 'TRUE', '#691f2f', 'Fe2O3', 'METçLICO/NO METçLICO', '5.3', 'TRIGONAL'], 'talco': ['1', 'FALSE', '#e9edf5', 'Mg3Si4O10(OH)2', 'NO METçLICO', '2.7', 'MONOCLêNICO'], 'sulfur': ['2', 'TRUE', '#E8DE35', 'S', 'NO METçLICO', '2.1', 'ORTORRîMBICO'], 'selenita': ['2', 'FALSE', '#e0ddd7', 'CaSO4á2H2O', 'NO METçLICO', '2.3', 'MONOCLêNICO'], 'moscovita': ['2.25', 'FALSE', '#7a785a', 'KAl3Si3O10(OH)2', 'NO METçLICO', '2.8', 'MONOCLêNICO'], 'halita': ['2.5', 'FALSE', '#cb9da1', 'NaCl', 'NO METçLICO', '2.2', 'CòBICO'], 'biotita': ['2.75', 'FALSE', '#282414', 'K(MgFe)3AlSi3O10(OH)2', 'NO METçLICO', '3', 'MONOCLêNICO'], 'calcita': ['3', 'FALSE', '#e5b569', 'CaCO3', 'NO METçLICO', '2.7', 'TRIGONAL'], 'dolomita': ['3.5', 'FALSE', '#daaa8c', 'CaMg(CO3)2', 'NO METçLICO', '2.8', 'TRIGONAL'], 'fluorita': ['4', 'FALSE', '#7a5596', 'CaF2', 'NO METçLICO', '3.2', 'CòBICO'], 'olivino': ['6.5', 'TRUE', '#9ab973', '(FeMg)2SiO4', 'NO METçLICO', '3.9', 'ORTORRîMBICO'], 'cuarzo': ['7', 'TRUE', '#f7cac9', 'SiO2', 'NO METçLICO', '2.65', 'TRIGONAL'], 'granate': ['7', 'TRUE', '#4b0002', 'Fe3Al2Si3O12', 'NO METçLICO', '3.9', 'CòBICO']}\n"
     ]
    }
   ],
   "source": [
    "def arreglo_minerales(archivo):\n",
    "    file= open(archivo)\n",
    "    cont= file.read()\n",
    "    \n",
    "    arreglo={}\n",
    "    mineral=[]\n",
    "    \n",
    "    renglones=cont.split(\"\\n\")\n",
    "    \n",
    "    for i in renglones:\n",
    "        renglon= i.split(\"\\t\")\n",
    "        mineral.append(renglon)\n",
    "    x= 0    \n",
    "    min= \"\"\n",
    "        \n",
    "    for i in mineral:\n",
    "        if i != mineral[0]:\n",
    "            for j in  i:\n",
    "                if j==i[0]:\n",
    "                    arreglo[j] = []\n",
    "                    i.remove(j)\n",
    "                    min= j\n",
    "                else:\n",
    "                    None\n",
    "                \n",
    "                arreglo[min]=i\n",
    "                 \n",
    "    return arreglo\n",
    "print (arreglo_minerales('Taller_1\\minerales.txt'))"
   ]
  }
 ],
 "metadata": {
  "kernelspec": {
   "display_name": "Python 3",
   "language": "python",
   "name": "python3"
  },
  "language_info": {
   "codemirror_mode": {
    "name": "ipython",
    "version": 3
   },
   "file_extension": ".py",
   "mimetype": "text/x-python",
   "name": "python",
   "nbconvert_exporter": "python",
   "pygments_lexer": "ipython3",
   "version": "3.11.5"
  },
  "orig_nbformat": 4
 },
 "nbformat": 4,
 "nbformat_minor": 2
}
