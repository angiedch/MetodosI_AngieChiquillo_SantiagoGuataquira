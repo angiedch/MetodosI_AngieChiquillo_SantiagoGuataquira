{
 "cells": [
  {
   "cell_type": "code",
   "execution_count": 7,
   "metadata": {},
   "outputs": [],
   "source": [
    "import matplotlib.pyplot as mpl \n",
    "import numpy as np \n",
    "def mul_matrices(A,B):\n",
    "    #A = np.array([[-2, 1, 0], [1, -2, 1], [0, 1, -2]])\n",
    "    #B = np.array([-2, 1, 0])\n",
    "\n",
    "    n = np.shape(A)[1]\n",
    "    n2 = np.shape(B)[0]\n",
    "    n3 = np.shape(B)[0]\n",
    "    n4 = np.shape(A)[0]\n",
    "    m = np.zeros(shape=(n4, n2))\n",
    "\n",
    "    if n == n3:\n",
    "        for j in range(n4):\n",
    "            for i in range(n2):\n",
    "                for k in range(n3):\n",
    "                    m[j][i] += A[j][k] * B[k]\n",
    "        return m\n",
    "    else:\n",
    "        return \"no se pueden multiplicar las matrices\"\n",
    "\n"
   ]
  },
  {
   "cell_type": "code",
   "execution_count": 10,
   "metadata": {},
   "outputs": [
    {
     "data": {
      "text/plain": [
       "array([[ 39.,  39.,  39.],\n",
       "       [ 23.,  23.,  23.],\n",
       "       [ 12.,  12.,  12.],\n",
       "       [-42., -42., -42.],\n",
       "       [ 32.,  32.,  32.]])"
      ]
     },
     "execution_count": 10,
     "metadata": {},
     "output_type": "execute_result"
    }
   ],
   "source": [
    "mul1"
   ]
  },
  {
   "cell_type": "code",
   "execution_count": 8,
   "metadata": {},
   "outputs": [
    {
     "name": "stderr",
     "output_type": "stream",
     "text": [
      "C:\\Users\\angie\\AppData\\Local\\Temp\\ipykernel_33996\\4041593324.py:17: DeprecationWarning: Conversion of an array with ndim > 0 to a scalar is deprecated, and will error in future. Ensure you extract a single element from your array before performing this operation. (Deprecated NumPy 1.25.)\n",
      "  m[j][i] += A[j][k] * B[k]\n"
     ]
    },
    {
     "ename": "ValueError",
     "evalue": "setting an array element with a sequence.",
     "output_type": "error",
     "traceback": [
      "\u001b[1;31m---------------------------------------------------------------------------\u001b[0m",
      "\u001b[1;31mTypeError\u001b[0m                                 Traceback (most recent call last)",
      "\u001b[1;31mTypeError\u001b[0m: only length-1 arrays can be converted to Python scalars",
      "\nThe above exception was the direct cause of the following exception:\n",
      "\u001b[1;31mValueError\u001b[0m                                Traceback (most recent call last)",
      "\u001b[1;32mc:\\Users\\angie\\Desktop\\Repositorio_mc\\MetodosI_AngieChiquillo_SantiagoGuataquira\\taller 3\\taller.ipynb Cell 2\u001b[0m line \u001b[0;36m1\n\u001b[0;32m     <a href='vscode-notebook-cell:/c%3A/Users/angie/Desktop/Repositorio_mc/MetodosI_AngieChiquillo_SantiagoGuataquira/taller%203/taller.ipynb#W1sZmlsZQ%3D%3D?line=10'>11</a>\u001b[0m A3\u001b[39m=\u001b[39mnp\u001b[39m.\u001b[39marray([[\u001b[39m2\u001b[39m,\u001b[39m-\u001b[39m\u001b[39m5\u001b[39m,\u001b[39m5\u001b[39m,\u001b[39m1\u001b[39m],[\u001b[39m5\u001b[39m,\u001b[39m2\u001b[39m,\u001b[39m-\u001b[39m\u001b[39m7\u001b[39m,\u001b[39m-\u001b[39m\u001b[39m6\u001b[39m],[\u001b[39m-\u001b[39m\u001b[39m6\u001b[39m,\u001b[39m-\u001b[39m\u001b[39m1\u001b[39m,\u001b[39m7\u001b[39m,\u001b[39m4\u001b[39m],[\u001b[39m5\u001b[39m,\u001b[39m4\u001b[39m,\u001b[39m1\u001b[39m,\u001b[39m-\u001b[39m\u001b[39m5\u001b[39m]])\n\u001b[0;32m     <a href='vscode-notebook-cell:/c%3A/Users/angie/Desktop/Repositorio_mc/MetodosI_AngieChiquillo_SantiagoGuataquira/taller%203/taller.ipynb#W1sZmlsZQ%3D%3D?line=11'>12</a>\u001b[0m B3\u001b[39m=\u001b[39mnp\u001b[39m.\u001b[39marray([[\u001b[39m0\u001b[39m,\u001b[39m4\u001b[39m,\u001b[39m-\u001b[39m\u001b[39m7\u001b[39m,\u001b[39m1\u001b[39m,\u001b[39m-\u001b[39m\u001b[39m6\u001b[39m],[\u001b[39m-\u001b[39m\u001b[39m1\u001b[39m,\u001b[39m-\u001b[39m\u001b[39m6\u001b[39m,\u001b[39m-\u001b[39m\u001b[39m5\u001b[39m,\u001b[39m1\u001b[39m,\u001b[39m1\u001b[39m],[\u001b[39m2\u001b[39m,\u001b[39m-\u001b[39m\u001b[39m1\u001b[39m,\u001b[39m-\u001b[39m\u001b[39m6\u001b[39m,\u001b[39m5\u001b[39m,\u001b[39m-\u001b[39m\u001b[39m5\u001b[39m],[\u001b[39m-\u001b[39m\u001b[39m3\u001b[39m,\u001b[39m-\u001b[39m\u001b[39m6\u001b[39m,\u001b[39m6\u001b[39m,\u001b[39m3\u001b[39m,\u001b[39m5\u001b[39m]])\n\u001b[1;32m---> <a href='vscode-notebook-cell:/c%3A/Users/angie/Desktop/Repositorio_mc/MetodosI_AngieChiquillo_SantiagoGuataquira/taller%203/taller.ipynb#W1sZmlsZQ%3D%3D?line=12'>13</a>\u001b[0m mul3\u001b[39m=\u001b[39mmul_matrices(A3,B3)\n\u001b[0;32m     <a href='vscode-notebook-cell:/c%3A/Users/angie/Desktop/Repositorio_mc/MetodosI_AngieChiquillo_SantiagoGuataquira/taller%203/taller.ipynb#W1sZmlsZQ%3D%3D?line=13'>14</a>\u001b[0m \u001b[39mprint\u001b[39m(mul3)\n",
      "\u001b[1;32mc:\\Users\\angie\\Desktop\\Repositorio_mc\\MetodosI_AngieChiquillo_SantiagoGuataquira\\taller 3\\taller.ipynb Cell 2\u001b[0m line \u001b[0;36m1\n\u001b[0;32m     <a href='vscode-notebook-cell:/c%3A/Users/angie/Desktop/Repositorio_mc/MetodosI_AngieChiquillo_SantiagoGuataquira/taller%203/taller.ipynb#W1sZmlsZQ%3D%3D?line=14'>15</a>\u001b[0m         \u001b[39mfor\u001b[39;00m i \u001b[39min\u001b[39;00m \u001b[39mrange\u001b[39m(n2):\n\u001b[0;32m     <a href='vscode-notebook-cell:/c%3A/Users/angie/Desktop/Repositorio_mc/MetodosI_AngieChiquillo_SantiagoGuataquira/taller%203/taller.ipynb#W1sZmlsZQ%3D%3D?line=15'>16</a>\u001b[0m             \u001b[39mfor\u001b[39;00m k \u001b[39min\u001b[39;00m \u001b[39mrange\u001b[39m(n3):\n\u001b[1;32m---> <a href='vscode-notebook-cell:/c%3A/Users/angie/Desktop/Repositorio_mc/MetodosI_AngieChiquillo_SantiagoGuataquira/taller%203/taller.ipynb#W1sZmlsZQ%3D%3D?line=16'>17</a>\u001b[0m                 m[j][i] \u001b[39m+\u001b[39m\u001b[39m=\u001b[39m A[j][k] \u001b[39m*\u001b[39m B[k]\n\u001b[0;32m     <a href='vscode-notebook-cell:/c%3A/Users/angie/Desktop/Repositorio_mc/MetodosI_AngieChiquillo_SantiagoGuataquira/taller%203/taller.ipynb#W1sZmlsZQ%3D%3D?line=17'>18</a>\u001b[0m     \u001b[39mreturn\u001b[39;00m m\n\u001b[0;32m     <a href='vscode-notebook-cell:/c%3A/Users/angie/Desktop/Repositorio_mc/MetodosI_AngieChiquillo_SantiagoGuataquira/taller%203/taller.ipynb#W1sZmlsZQ%3D%3D?line=18'>19</a>\u001b[0m \u001b[39melse\u001b[39;00m:\n",
      "\u001b[1;31mValueError\u001b[0m: setting an array element with a sequence."
     ]
    }
   ],
   "source": [
    "\n",
    "#PUNTO 1 \n",
    "#a\n",
    "A1=np.array([[5,-4,-2],[5,-5,4],[2,5,-4],[-5,4,3],[3,-4,-3]])\n",
    "B1=np.array([[5],[-2],[-3]])\n",
    "mul1=mul_matrices(A1,B1)\n",
    "#b\n",
    "A2=np.array([[0,1,-1,3],[5,-5,-2,2],[1,0,4,5]])\n",
    "B2=np.array([[0,-3],[-2,-1],[3,-3]])\n",
    "mul2=mul_matrices(A2,B2)\n",
    "#c\n",
    "A3=np.array([[2,-5,5,1],[5,2,-7,-6],[-6,-1,7,4],[5,4,1,-5]])\n",
    "B3=np.array([[0,4,-7,1,-6],[-1,-6,-5,1,1],[2,-1,-6,5,-5],[-3,-6,6,3,5]])\n",
    "mul3=mul_matrices(A3,B3)\n",
    "print(mul3)\n",
    "\n"
   ]
  },
  {
   "cell_type": "code",
   "execution_count": 6,
   "metadata": {},
   "outputs": [
    {
     "data": {
      "text/plain": [
       "array([[ 5.,  5.,  5.],\n",
       "       [-4., -4., -4.],\n",
       "       [ 1.,  1.,  1.]])"
      ]
     },
     "execution_count": 6,
     "metadata": {},
     "output_type": "execute_result"
    }
   ],
   "source": [
    "mul1"
   ]
  },
  {
   "cell_type": "code",
   "execution_count": 3,
   "metadata": {},
   "outputs": [
    {
     "name": "stdout",
     "output_type": "stream",
     "text": [
      "[0.71428571 0.85714286 1.        ]\n",
      "[ 0.75  -0.375 -0.375]\n"
     ]
    }
   ],
   "source": [
    "#PUNTO 2\n",
    "def reduccion(a,b):\n",
    "    n=np.shape(a)[0]\n",
    "    M=np.zeros(shape=(n,n+1))\n",
    "    \n",
    "    M[:,0:n] = a\n",
    "    M[:,n] = b\n",
    "    for j in range(n-1):\n",
    "        for i in range(j+1,n):\n",
    "            coeff=M[i,j]/M[j,j]\n",
    "            nf=M[i,:]-(coeff*M[j,:])\n",
    "            M[i,:]=nf\n",
    "    return M\n",
    "\n",
    "\n",
    "def solucion (a):\n",
    "    \n",
    "    A= a[: , : -1]\n",
    "    B= a[: ,-1]\n",
    "    \n",
    "    n = np.shape(A)[0]\n",
    "    x = np.zeros(n)\n",
    "    for i in range(n-1,-1,-1):\n",
    "        sum = B[i]\n",
    "\n",
    "        for j in range(n-1,i,-1):\n",
    "            sum -= A[i,j]*x[j]\n",
    "\n",
    "        x[i] = sum/A[i,i]\n",
    "\n",
    "    return x\n",
    "\n",
    "\n",
    "#Solución de A: Fuerzas\n",
    "a=np.array([[3,1,-1],[1,-2,1],[4,-1,1]])\n",
    "b=np.array([2,0,3])\n",
    "print(solucion(reduccion(a,b))) \n",
    "#print(reduccion(a,b)) \n",
    " \n",
    "#print(np.linalg.solve(a,b))\n",
    "\n",
    "#Solución de B: Flujo de corriente\n",
    "A= np.array([[1,1,1],[1,-8,10],[4,-8,0]])\n",
    "B= np.array([0,0,6])\n",
    "print(solucion(reduccion(A, B))) \n",
    "#print(reduccion(A,B))        \n",
    "\n",
    "#print(np.linalg.solve(A,B))\n"
   ]
  },
  {
   "cell_type": "code",
   "execution_count": 4,
   "metadata": {},
   "outputs": [
    {
     "name": "stdout",
     "output_type": "stream",
     "text": [
      "[[ 3  1 -1  2]\n",
      " [ 0 -2  1  0]\n",
      " [ 0  0  1  0]]\n"
     ]
    }
   ],
   "source": [
    "def reduccion(a):\n",
    "    n=len(a)\n",
    "    for j in range(n-1):\n",
    "        for i in range(j+1,n):\n",
    "            coeff=a[i,j]/a[j,j]\n",
    "            nf=a[i,:]-(coeff*a[j,:])\n",
    "            a[i,:]=nf\n",
    "    return a\n",
    "\n",
    "a=np.array([[3,1,-1,2],[1,-2,1,0],[4,-1,1,3]])\n",
    "print(reduccion(a))"
   ]
  },
  {
   "cell_type": "code",
   "execution_count": 11,
   "metadata": {},
   "outputs": [
    {
     "name": "stdout",
     "output_type": "stream",
     "text": [
      "('La frecuencia máxima es', '[[3.82842712]]', 'y su vector asociado es', '[[-0.5       ] [ 0.70710678] [-0.5       ]]')\n",
      "('La frecuencia mínima es', '[[1.]]', 'y su vector asociado es', '[[-7.07106781e-01] [ 4.29356040e-17] [ 7.07106781e-01]]')\n"
     ]
    }
   ],
   "source": [
    "#PUNTO 3\n",
    "\n",
    "\"\"\"\n",
    "Asumiendo kappa= -2 y m1=m2=m3=1, se tiene la matriz M\n",
    "\n",
    "\n",
    "\"\"\"\n",
    "M =np.array([[1.0,-2.0,0.0],[-2.0,1.0,-2.0],[0.0,-2.0,1.0]])\n",
    "B =np.array([[1.0,2.0,-0.5],[1.006,0.0,1.0],[4.0,-4.0,5.0]])\n",
    "\n",
    "\n",
    "def autovalor_max(m):\n",
    "    q = np.random.rand(len(m))\n",
    "    n=np.shape(m)[0]\n",
    "    \n",
    "    q1=np.zeros(shape=(n,1))\n",
    "\n",
    "    for i in range(len(q)):\n",
    "        q1[i][0]= q[i]\n",
    "\n",
    "\n",
    "    for i in range(100):\n",
    "        z= np.matmul(m, q1)\n",
    "        q1= z/np.linalg.norm(z)\n",
    "        valor_max= np.matmul(q1.T,m)\n",
    "        valor_max= np.matmul(valor_max, q1)\n",
    "        \n",
    "    return  \"La frecuencia máxima es\", str(valor_max), \"y su vector asociado es\", str(q1).replace(\"\\n\", \"\")\n",
    "\n",
    "\n",
    "def autovalor_min (m):\n",
    "    W = np.linalg.inv(m)\n",
    "    \n",
    "    q = np.random.rand(len(W))\n",
    "    n=np.shape(W)[0]\n",
    "    \n",
    "    q1=np.zeros(shape=(n,1))\n",
    "    for i in range(len(q)):\n",
    "        q1[i][0]= q[i]\n",
    "        \n",
    "    for i in range(100):\n",
    "        z= np.matmul(W, q1)\n",
    "        q1= z/np.sqrt(np.matmul(z.T,z))\n",
    "        valor_min= np.matmul(q1.T,W)\n",
    "        valor_min= np.matmul(valor_min, q1)\n",
    "        \n",
    "        \n",
    "    \n",
    "    return \"La frecuencia mínima es\", str(1/valor_min), \"y su vector asociado es\", str(q1).replace(\"\\n\", \"\")\n",
    "\n",
    "#Comprobar los valores propios de la matriz\n",
    "#print(np.linalg.eig(M))\n",
    "\n",
    "\n",
    "print(autovalor_max(M))\n",
    "print(autovalor_min(M))\n",
    "\n"
   ]
  }
 ],
 "metadata": {
  "kernelspec": {
   "display_name": "base",
   "language": "python",
   "name": "python3"
  },
  "language_info": {
   "codemirror_mode": {
    "name": "ipython",
    "version": 3
   },
   "file_extension": ".py",
   "mimetype": "text/x-python",
   "name": "python",
   "nbconvert_exporter": "python",
   "pygments_lexer": "ipython3",
   "version": "3.11.6"
  }
 },
 "nbformat": 4,
 "nbformat_minor": 2
}
