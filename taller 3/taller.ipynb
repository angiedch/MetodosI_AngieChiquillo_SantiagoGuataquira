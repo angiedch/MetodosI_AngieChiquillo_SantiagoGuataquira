{
 "cells": [
  {
   "cell_type": "code",
   "execution_count": 4,
   "metadata": {},
   "outputs": [],
   "source": [
    "import matplotlib.pyplot as mpl \n",
    "import numpy as np \n",
    "\n",
    "def mul_matrices(A,B):\n",
    "    n= np.shape(A)[1]\n",
    "    n2=np.shape(B)[1]\n",
    "    n3=np.shape(B)[0]\n",
    "    n4=np.shape(A)[0]\n",
    "    m=np.zeros(shape=(n4,n2))\n",
    "    if n==n3:\n",
    "        for j in range(n4):\n",
    "            for i in range(n2):\n",
    "                for k in range(n3):\n",
    "                    m[j][i] += A[j][k]* B[k][i]\n",
    "        return m\n",
    "    else:\n",
    "        return \"no se pueden multiplicar las matrices\"\n",
    "         \n",
    "\n"
   ]
  },
  {
   "cell_type": "code",
   "execution_count": 5,
   "metadata": {},
   "outputs": [],
   "source": [
    "\n",
    "# punto 1 \n",
    "#a\n",
    "A1=np.array([[5,-4,-2],[5,-5,4],[2,5,-4],[-5,4,3],[3,-4,-3]])\n",
    "B1=np.array([[5],[-2],[-3]])\n",
    "mul1=mul_matrices(A1,B1)\n",
    "#b\n",
    "A2=np.array([[0,1,-1,3],[5,-5,-2,2],[1,0,4,5]])\n",
    "B2=np.array([[0,-3],[-2,-1],[3,-3]])\n",
    "mul2=mul_matrices(A2,B2)\n",
    "#c\n",
    "A3=np.array([[2,-5,5,1],[5,2,-7,-6],[-6,-1,7,4],[5,4,1,-5]])\n",
    "B3=np.array([[0,4,-7,1,-6],[-1,-6,-5,1,1],[2,-1,-6,5,-5],[-3,-6,6,3,5]])\n",
    "mul3=mul_matrices(A3,B3)\n",
    "\n"
   ]
  },
  {
   "cell_type": "code",
   "execution_count": 25,
   "metadata": {},
   "outputs": [
    {
     "ename": "UnboundLocalError",
     "evalue": "local variable 'j' referenced before assignment",
     "output_type": "error",
     "traceback": [
      "\u001b[1;31m---------------------------------------------------------------------------\u001b[0m",
      "\u001b[1;31mUnboundLocalError\u001b[0m                         Traceback (most recent call last)",
      "\u001b[1;32m<ipython-input-25-51e27d5f271f>\u001b[0m in \u001b[0;36m<module>\u001b[1;34m\u001b[0m\n\u001b[0;32m     25\u001b[0m     \u001b[1;32mreturn\u001b[0m \u001b[0mdes\u001b[0m\u001b[1;33m\u001b[0m\u001b[1;33m\u001b[0m\u001b[0m\n\u001b[0;32m     26\u001b[0m \u001b[1;33m\u001b[0m\u001b[0m\n\u001b[1;32m---> 27\u001b[1;33m \u001b[0mprint\u001b[0m\u001b[1;33m(\u001b[0m\u001b[0msolucion\u001b[0m\u001b[1;33m(\u001b[0m\u001b[0mreduccion\u001b[0m\u001b[1;33m(\u001b[0m\u001b[0ma\u001b[0m\u001b[1;33m,\u001b[0m\u001b[0mb\u001b[0m\u001b[1;33m)\u001b[0m\u001b[1;33m)\u001b[0m\u001b[1;33m)\u001b[0m\u001b[1;33m\u001b[0m\u001b[1;33m\u001b[0m\u001b[0m\n\u001b[0m\u001b[0;32m     28\u001b[0m \u001b[1;33m\u001b[0m\u001b[0m\n\u001b[0;32m     29\u001b[0m \u001b[1;33m\u001b[0m\u001b[0m\n",
      "\u001b[1;32m<ipython-input-25-51e27d5f271f>\u001b[0m in \u001b[0;36msolucion\u001b[1;34m(a)\u001b[0m\n\u001b[0;32m     20\u001b[0m     \u001b[1;32mfor\u001b[0m \u001b[0mi\u001b[0m \u001b[1;32min\u001b[0m \u001b[0mrange\u001b[0m\u001b[1;33m(\u001b[0m\u001b[0mn\u001b[0m\u001b[1;33m-\u001b[0m\u001b[1;36m1\u001b[0m\u001b[1;33m,\u001b[0m\u001b[1;33m-\u001b[0m\u001b[1;36m1\u001b[0m\u001b[1;33m,\u001b[0m\u001b[1;33m-\u001b[0m\u001b[1;36m1\u001b[0m\u001b[1;33m)\u001b[0m\u001b[1;33m:\u001b[0m\u001b[1;33m\u001b[0m\u001b[1;33m\u001b[0m\u001b[0m\n\u001b[0;32m     21\u001b[0m         \u001b[0mdes\u001b[0m\u001b[1;33m=\u001b[0m\u001b[1;36m0\u001b[0m\u001b[1;33m\u001b[0m\u001b[1;33m\u001b[0m\u001b[0m\n\u001b[1;32m---> 22\u001b[1;33m         \u001b[1;32mfor\u001b[0m \u001b[0mj\u001b[0m \u001b[1;32min\u001b[0m \u001b[0mrange\u001b[0m\u001b[1;33m(\u001b[0m\u001b[0mj\u001b[0m\u001b[1;33m+\u001b[0m\u001b[1;36m1\u001b[0m\u001b[1;33m,\u001b[0m\u001b[0mn\u001b[0m\u001b[1;33m)\u001b[0m\u001b[1;33m:\u001b[0m\u001b[1;33m\u001b[0m\u001b[1;33m\u001b[0m\u001b[0m\n\u001b[0m\u001b[0;32m     23\u001b[0m             \u001b[0mdes\u001b[0m \u001b[1;33m+=\u001b[0m \u001b[0ma\u001b[0m\u001b[1;33m[\u001b[0m\u001b[0mi\u001b[0m\u001b[1;33m,\u001b[0m\u001b[0mj\u001b[0m\u001b[1;33m]\u001b[0m\u001b[1;33m*\u001b[0m\u001b[0msol\u001b[0m\u001b[1;33m[\u001b[0m\u001b[0mi\u001b[0m\u001b[1;33m]\u001b[0m\u001b[1;33m\u001b[0m\u001b[1;33m\u001b[0m\u001b[0m\n\u001b[0;32m     24\u001b[0m \u001b[1;33m\u001b[0m\u001b[0m\n",
      "\u001b[1;31mUnboundLocalError\u001b[0m: local variable 'j' referenced before assignment"
     ]
    }
   ],
   "source": [
    "#punto 2.\n",
    "def reduccion(a,b):\n",
    "    n=np.shape(a)[0]\n",
    "    M=np.zeros(shape=(n,n+1))\n",
    "    M[:,0:n] = a\n",
    "    M[:,n] = b\n",
    "    for j in range(n-1):\n",
    "        for i in range(j+1,n):\n",
    "            coeff=M[i,j]/M[j,j]\n",
    "            nf=M[i,:]-(coeff*M[j,:])\n",
    "            M[i,:]=nf\n",
    "    return M\n",
    "a=np.array([[3,1,-1],[1,-2,1],[4,-1,1]])\n",
    "b=np.array([2,0,3])\n",
    "\n",
    "\n",
    "def solucion (a):\n",
    "    n = np.shape(a)[0]\n",
    "    sol = np.zeros(n)\n",
    "    for i in range(n-1,-1,-1):\n",
    "        des=0\n",
    "        for j in range(j+1,n):\n",
    "            des += a[i,j]*sol[i]\n",
    "            \n",
    "    return des\n",
    "\n",
    "print(solucion(reduccion(a,b)))        \n",
    "\n",
    "\n"
   ]
  },
  {
   "cell_type": "code",
   "execution_count": null,
   "metadata": {},
   "outputs": [
    {
     "name": "stdout",
     "output_type": "stream",
     "text": [
      "[[ 3  1 -1  2]\n",
      " [ 0 -2  1  0]\n",
      " [ 0  0  1  0]]\n"
     ]
    }
   ],
   "source": [
    "def reduccion(a):\n",
    "    n=len(a)\n",
    "    for j in range(n-1):\n",
    "        for i in range(j+1,n):\n",
    "            coeff=a[i,j]/a[j,j]\n",
    "            nf=a[i,:]-(coeff*a[j,:])\n",
    "            a[i,:]=nf\n",
    "    return a\n",
    "\n",
    "a=np.array([[3,1,-1,2],[1,-2,1,0],[4,-1,1,3]])\n",
    "print(reduccion(a))"
   ]
  }
 ],
 "metadata": {
  "kernelspec": {
   "display_name": "base",
   "language": "python",
   "name": "python3"
  },
  "language_info": {
   "codemirror_mode": {
    "name": "ipython",
    "version": 3
   },
   "file_extension": ".py",
   "mimetype": "text/x-python",
   "name": "python",
   "nbconvert_exporter": "python",
   "pygments_lexer": "ipython3",
   "version": "3.8.8"
  }
 },
 "nbformat": 4,
 "nbformat_minor": 2
}
