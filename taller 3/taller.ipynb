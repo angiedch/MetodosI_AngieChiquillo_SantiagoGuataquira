{
 "cells": [
  {
   "cell_type": "code",
   "execution_count": 1,
   "metadata": {},
   "outputs": [],
   "source": [
    "import matplotlib.pyplot as mpl \n",
    "import numpy as np \n",
    "def mul_matrices(A,B):\n",
    "    A = np.array([[-2, 1, 0], [1, -2, 1], [0, 1, -2]])\n",
    "    B = np.array([-2, 1, 0])\n",
    "\n",
    "    n = np.shape(A)[1]\n",
    "    n2 = np.shape(B)[0]\n",
    "    n3 = np.shape(B)[0]\n",
    "    n4 = np.shape(A)[0]\n",
    "    m = np.zeros(shape=(n4, n2))\n",
    "\n",
    "    if n == n3:\n",
    "        for j in range(n4):\n",
    "            for i in range(n2):\n",
    "                for k in range(n3):\n",
    "                    m[j][i] += A[j][k] * B[k]\n",
    "        return m\n",
    "    else:\n",
    "        return \"no se pueden multiplicar las matrices\"\n",
    "\n"
   ]
  },
  {
   "cell_type": "code",
   "execution_count": 2,
   "metadata": {},
   "outputs": [
    {
     "name": "stdout",
     "output_type": "stream",
     "text": [
      "[[ 12.  27. -13.  25. -37.]\n",
      " [  2.  51. -39. -46. -23.]\n",
      " [  3. -49.  29.  40.  20.]\n",
      " [ 13.  25. -91.  -1. -56.]]\n"
     ]
    }
   ],
   "source": [
    "\n",
    "#PUNTO 1 \n",
    "#a\n",
    "A1=np.array([[5,-4,-2],[5,-5,4],[2,5,-4],[-5,4,3],[3,-4,-3]])\n",
    "B1=np.array([[5],[-2],[-3]])\n",
    "mul1=mul_matrices(A1,B1)\n",
    "#b\n",
    "A2=np.array([[0,1,-1,3],[5,-5,-2,2],[1,0,4,5]])\n",
    "B2=np.array([[0,-3],[-2,-1],[3,-3]])\n",
    "mul2=mul_matrices(A2,B2)\n",
    "#c\n",
    "A3=np.array([[2,-5,5,1],[5,2,-7,-6],[-6,-1,7,4],[5,4,1,-5]])\n",
    "B3=np.array([[0,4,-7,1,-6],[-1,-6,-5,1,1],[2,-1,-6,5,-5],[-3,-6,6,3,5]])\n",
    "mul3=mul_matrices(A3,B3)\n",
    "print(mul3)\n",
    "\n"
   ]
  },
  {
   "cell_type": "code",
   "execution_count": 178,
   "metadata": {},
   "outputs": [
    {
     "name": "stdout",
     "output_type": "stream",
     "text": [
      "[0.71428571 0.85714286 1.        ]\n",
      "[0.71428571 0.85714286 1.        ]\n"
     ]
    }
   ],
   "source": [
    "#PUNTO 2\n",
    "def reduccion(a,b):\n",
    "    n=np.shape(a)[0]\n",
    "    M=np.zeros(shape=(n,n+1))\n",
    "    \n",
    "    M[:,0:n] = a\n",
    "    M[:,n] = b\n",
    "    for j in range(n-1):\n",
    "        for i in range(j+1,n):\n",
    "            coeff=M[i,j]/M[j,j]\n",
    "            nf=M[i,:]-(coeff*M[j,:])\n",
    "            M[i,:]=nf\n",
    "    return M\n",
    "\n",
    "\n",
    "def solucion (a):\n",
    "    \n",
    "    A= a[: , : -1]\n",
    "    B= a[: ,-1]\n",
    "    \n",
    "    n = np.shape(A)[0]\n",
    "    x = np.zeros(n)\n",
    "    for i in range(n-1,-1,-1):\n",
    "        sum = B[i]\n",
    "        for j in range(n-1,i,-1):\n",
    "            sum -= A[i,j]*x[j]\n",
    "        x[i] = sum/A[i,i]\n",
    "\n",
    "    return x\n",
    "\n",
    "\n",
    "#Solución de A: Fuerzas\n",
    "a=np.array([[3,1,-1],[1,-2,1],[4,-1,1]])\n",
    "b=np.array([2,0,3])\n",
    "print(solucion(reduccion(a,b))) \n",
    "#print(reduccion(a,b)) \n",
    " \n",
    "#print(np.linalg.solve(a,b))\n",
    "\n",
    "#Solución de B: Flujo de corriente\n",
    "A= np.array([[1,1,1],[1,-8,10],[4,-8,0]])\n",
    "B= np.array([0,0,6])\n",
    "print(solucion(reduccion(A, B))) \n",
    "#print(reduccion(A,B))        \n",
    "\n",
    "#print(np.linalg.solve(A,B))\n"
   ]
  },
  {
   "cell_type": "code",
   "execution_count": 175,
   "metadata": {},
   "outputs": [
    {
     "name": "stdout",
     "output_type": "stream",
     "text": [
      "[-3.41421356 -2.         -0.58578644]\n",
      "[[-3.41421356]]\n",
      "[[-0.58578644]]\n",
      "EigResult(eigenvalues=array([-3.41421356, -2.        , -0.58578644]), eigenvectors=array([[ 5.00000000e-01,  7.07106781e-01,  5.00000000e-01],\n",
      "       [-7.07106781e-01, -4.05405432e-16,  7.07106781e-01],\n",
      "       [ 5.00000000e-01, -7.07106781e-01,  5.00000000e-01]]))\n",
      "[[ 4 -1  0]\n",
      " [-1  4 -1]\n",
      " [ 0 -1  4]]\n"
     ]
    },
    {
     "ename": "TypeError",
     "evalue": "unsupported format string passed to numpy.ndarray.__format__",
     "output_type": "error",
     "traceback": [
      "\u001b[1;31m---------------------------------------------------------------------------\u001b[0m",
      "\u001b[1;31mTypeError\u001b[0m                                 Traceback (most recent call last)",
      "\u001b[1;32mc:\\Users\\angie\\Desktop\\Repositorio_mc\\MetodosI_AngieChiquillo_SantiagoGuataquira\\taller 3\\taller.ipynb Cell 6\u001b[0m line \u001b[0;36m5\n\u001b[0;32m     <a href='vscode-notebook-cell:/c%3A/Users/angie/Desktop/Repositorio_mc/MetodosI_AngieChiquillo_SantiagoGuataquira/taller%203/taller.ipynb#X21sZmlsZQ%3D%3D?line=53'>54</a>\u001b[0m     \u001b[39mreturn\u001b[39;00m vect1\n\u001b[0;32m     <a href='vscode-notebook-cell:/c%3A/Users/angie/Desktop/Repositorio_mc/MetodosI_AngieChiquillo_SantiagoGuataquira/taller%203/taller.ipynb#X21sZmlsZQ%3D%3D?line=55'>56</a>\u001b[0m \u001b[39mprint\u001b[39m(np\u001b[39m.\u001b[39mlinalg\u001b[39m.\u001b[39meig(M))\n\u001b[1;32m---> <a href='vscode-notebook-cell:/c%3A/Users/angie/Desktop/Repositorio_mc/MetodosI_AngieChiquillo_SantiagoGuataquira/taller%203/taller.ipynb#X21sZmlsZQ%3D%3D?line=56'>57</a>\u001b[0m \u001b[39mprint\u001b[39m(vectores(M))\n",
      "\u001b[1;32mc:\\Users\\angie\\Desktop\\Repositorio_mc\\MetodosI_AngieChiquillo_SantiagoGuataquira\\taller 3\\taller.ipynb Cell 6\u001b[0m line \u001b[0;36m5\n\u001b[0;32m     <a href='vscode-notebook-cell:/c%3A/Users/angie/Desktop/Repositorio_mc/MetodosI_AngieChiquillo_SantiagoGuataquira/taller%203/taller.ipynb#X21sZmlsZQ%3D%3D?line=48'>49</a>\u001b[0m \u001b[39mprint\u001b[39m(m)\n\u001b[0;32m     <a href='vscode-notebook-cell:/c%3A/Users/angie/Desktop/Repositorio_mc/MetodosI_AngieChiquillo_SantiagoGuataquira/taller%203/taller.ipynb#X21sZmlsZQ%3D%3D?line=49'>50</a>\u001b[0m z\u001b[39m=\u001b[39m np\u001b[39m.\u001b[39mzeros(\u001b[39m3\u001b[39m)\n\u001b[1;32m---> <a href='vscode-notebook-cell:/c%3A/Users/angie/Desktop/Repositorio_mc/MetodosI_AngieChiquillo_SantiagoGuataquira/taller%203/taller.ipynb#X21sZmlsZQ%3D%3D?line=51'>52</a>\u001b[0m vect1\u001b[39m=\u001b[39m solucion(\u001b[39m\"\u001b[39;49m\u001b[39m{:.5f}\u001b[39;49;00m\u001b[39m\"\u001b[39;49m\u001b[39m.\u001b[39;49mformat(reduccion(m, \u001b[39m0\u001b[39;49m)))\n\u001b[0;32m     <a href='vscode-notebook-cell:/c%3A/Users/angie/Desktop/Repositorio_mc/MetodosI_AngieChiquillo_SantiagoGuataquira/taller%203/taller.ipynb#X21sZmlsZQ%3D%3D?line=53'>54</a>\u001b[0m \u001b[39mreturn\u001b[39;00m vect1\n",
      "\u001b[1;31mTypeError\u001b[0m: unsupported format string passed to numpy.ndarray.__format__"
     ]
    }
   ],
   "source": [
    "#PUNTO 3\n",
    "\n",
    "\"\"\"\n",
    "Asumiendo kappa= 1 y m1=m2=m3=1, se tiene la matriz M\n",
    "\n",
    "\n",
    "\"\"\"\n",
    "M =np.array([[-2,1,0],[1,-2,1],[0,1,-2]])\n",
    "B =np.array([[1,2,-0.5],[1.006,0,1],[4,-4,5]])\n",
    "\n",
    "\n",
    "def autovalor_max(m):\n",
    "    q = np.random.rand(len(m))\n",
    "    n=np.shape(m)[0]\n",
    "    \n",
    "    q1=np.zeros(shape=(n,1))\n",
    "\n",
    "    for i in range(len(q)):\n",
    "        q1[i][0]= q[i]\n",
    "\n",
    "\n",
    "    for i in range(100):\n",
    "        z= mul_matrices(m, q1)\n",
    "        q1= z/np.sqrt(mul_matrices(z.T,z))\n",
    "        v_max= mul_matrices(q1.T,m)\n",
    "        v_max= mul_matrices(v_max, q1)\n",
    "        \n",
    "    return v_max\n",
    "\n",
    "\n",
    "def autovalor_min (m):\n",
    "    W = np.linalg.inv(m)\n",
    "    return 1/autovalor_max(W)\n",
    "\n",
    "#Comprobar los valores propios de la matriz\n",
    "print(np.linalg.eigvals(M))\n",
    "\n",
    "\n",
    "print(autovalor_max(M))\n",
    "print(autovalor_min(M))\n",
    "\n",
    "#Vectores propios \n",
    "def vectores(m):\n",
    "    val= np.linalg.eigvals(M)\n",
    "    m*= -1\n",
    "    \n",
    "    for i in range(len(m)):\n",
    "        m[i][i]-= float(val[1])\n",
    "    print(m)\n",
    "    z= np.zeros(3)\n",
    "    \n",
    "    vect1= solucion(reduccion(m, 0))\n",
    "\n",
    "    return vect1\n",
    "\n",
    "print(np.linalg.eig(M))\n",
    "print(vectores(M))\n",
    "\n"
   ]
  }
 ],
 "metadata": {
  "kernelspec": {
   "display_name": "base",
   "language": "python",
   "name": "python3"
  },
  "language_info": {
   "codemirror_mode": {
    "name": "ipython",
    "version": 3
   },
   "file_extension": ".py",
   "mimetype": "text/x-python",
   "name": "python",
   "nbconvert_exporter": "python",
   "pygments_lexer": "ipython3",
   "version": "3.11.6"
  }
 },
 "nbformat": 4,
 "nbformat_minor": 2
}
