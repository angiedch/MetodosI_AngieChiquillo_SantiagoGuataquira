{
 "cells": [
  {
   "cell_type": "code",
   "execution_count": 8,
   "metadata": {},
   "outputs": [
    {
     "ename": "ModuleNotFoundError",
     "evalue": "No module named 'scipy'",
     "output_type": "error",
     "traceback": [
      "\u001b[1;31m---------------------------------------------------------------------------\u001b[0m",
      "\u001b[1;31mModuleNotFoundError\u001b[0m                       Traceback (most recent call last)",
      "\u001b[1;32mc:\\Users\\angie\\Desktop\\Repositorio_mc\\MetodosI_AngieChiquillo_SantiagoGuataquira\\Taller 4.ipynb Cell 1\u001b[0m line \u001b[0;36m3\n\u001b[0;32m      <a href='vscode-notebook-cell:/c%3A/Users/angie/Desktop/Repositorio_mc/MetodosI_AngieChiquillo_SantiagoGuataquira/Taller%204.ipynb#W0sZmlsZQ%3D%3D?line=0'>1</a>\u001b[0m \u001b[39mimport\u001b[39;00m \u001b[39mnumpy\u001b[39;00m \u001b[39mas\u001b[39;00m \u001b[39mnp\u001b[39;00m\n\u001b[0;32m      <a href='vscode-notebook-cell:/c%3A/Users/angie/Desktop/Repositorio_mc/MetodosI_AngieChiquillo_SantiagoGuataquira/Taller%204.ipynb#W0sZmlsZQ%3D%3D?line=1'>2</a>\u001b[0m \u001b[39mimport\u001b[39;00m \u001b[39mmatplotlib\u001b[39;00m\u001b[39m.\u001b[39;00m\u001b[39mpyplot\u001b[39;00m \u001b[39mas\u001b[39;00m \u001b[39mplt\u001b[39;00m\n\u001b[1;32m----> <a href='vscode-notebook-cell:/c%3A/Users/angie/Desktop/Repositorio_mc/MetodosI_AngieChiquillo_SantiagoGuataquira/Taller%204.ipynb#W0sZmlsZQ%3D%3D?line=2'>3</a>\u001b[0m \u001b[39mimport\u001b[39;00m \u001b[39mscipy\u001b[39;00m \u001b[39mas\u001b[39;00m \u001b[39msp\u001b[39;00m\n",
      "\u001b[1;31mModuleNotFoundError\u001b[0m: No module named 'scipy'"
     ]
    }
   ],
   "source": [
    "import numpy as np\n",
    "import matplotlib.pyplot as plt\n",
    "import scipy as sp\n",
    "import sympy as sym"
   ]
  },
  {
   "cell_type": "code",
   "execution_count": 3,
   "metadata": {},
   "outputs": [
    {
     "name": "stdout",
     "output_type": "stream",
     "text": [
      "la probabilidad de que las las primeras 2 cartas sean espadas y las siguientes 3 cartas también sean espadas es de 0.008259901607997704\n",
      "la probabilidad de que las las primeras 3 cartas sean espadas y las siguientes 2 cartas también sean espadas es de  0.03729477424199029\n",
      "la probabilidad de que las las primeras 4 cartas sean espadas y la siguiente carta también sean espadas es de 0.19009269108038293\n"
     ]
    }
   ],
   "source": [
    "#Punto 1 parte1\n",
    "\n",
    "N = 10000000\n",
    "\n",
    "dos_a = 0\n",
    "tres_a = 0\n",
    "\n",
    "for i in range(N):\n",
    "    baraja = np.zeros(52)\n",
    "    baraja[:13] =1\n",
    "    \n",
    "    np.random.shuffle(baraja)\n",
    "    if sum(baraja[:2])==2:\n",
    "        dos_a +=1 \n",
    "        \n",
    "        if sum(baraja[:5])==5:\n",
    "            tres_a +=1\n",
    "            \n",
    "proba1= dos_a/N\n",
    "proba2= tres_a/dos_a\n",
    "\n",
    "print(\"la probabilidad de que las las primeras 2 cartas sean espadas y las siguientes 3 cartas también sean espadas es de \" + str(proba2))\n",
    "\n",
    "\n",
    "tres_b= 0\n",
    "dos_b= 0\n",
    "for i in range(N):\n",
    "    baraja = np.zeros(52)\n",
    "    baraja[:13] =1\n",
    "    \n",
    "    np.random.shuffle(baraja)\n",
    "    if sum(baraja[:3])==3:\n",
    "        tres_b +=1 \n",
    "        \n",
    "        if sum(baraja[:5])==5:\n",
    "            dos_b +=1\n",
    "            \n",
    "probb1= tres_b/N\n",
    "probb2= dos_b/tres_b  \n",
    "\n",
    "print(\"la probabilidad de que las las primeras 3 cartas sean espadas y las siguientes 2 cartas también sean espadas es de  \" + str(probb2))          \n",
    "\n",
    "            \n",
    "cuatro_c= 0\n",
    "una_c= 0\n",
    "for i in range(N):\n",
    "    baraja = np.zeros(52)\n",
    "    baraja[:13] =1\n",
    "    \n",
    "    np.random.shuffle(baraja)\n",
    "    if sum(baraja[:4])==4:\n",
    "        cuatro_c +=1 \n",
    "        \n",
    "        if sum(baraja[:5])==5:\n",
    "            una_c +=1\n",
    "\n",
    "probc1= cuatro_c/N\n",
    "probc2= una_c/cuatro_c    \n",
    "print(\"la probabilidad de que las las primeras 4 cartas sean espadas y la siguiente carta también sean espadas es de \" + str(probc2))\n",
    "\n"
   ]
  },
  {
   "cell_type": "code",
   "execution_count": 1,
   "metadata": {},
   "outputs": [
    {
     "ename": "NameError",
     "evalue": "name 'np' is not defined",
     "output_type": "error",
     "traceback": [
      "\u001b[1;31m---------------------------------------------------------------------------\u001b[0m",
      "\u001b[1;31mNameError\u001b[0m                                 Traceback (most recent call last)",
      "\u001b[1;32mc:\\Users\\angie\\Desktop\\Repositorio_mc\\MetodosI_AngieChiquillo_SantiagoGuataquira\\Taller 4.ipynb Cell 2\u001b[0m line \u001b[0;36m6\n\u001b[0;32m      <a href='vscode-notebook-cell:/c%3A/Users/angie/Desktop/Repositorio_mc/MetodosI_AngieChiquillo_SantiagoGuataquira/Taller%204.ipynb#W1sZmlsZQ%3D%3D?line=3'>4</a>\u001b[0m N\u001b[39m=\u001b[39m \u001b[39m2\u001b[39m\n\u001b[0;32m      <a href='vscode-notebook-cell:/c%3A/Users/angie/Desktop/Repositorio_mc/MetodosI_AngieChiquillo_SantiagoGuataquira/Taller%204.ipynb#W1sZmlsZQ%3D%3D?line=4'>5</a>\u001b[0m p\u001b[39m=\u001b[39m \u001b[39m0.6\u001b[39m\n\u001b[1;32m----> <a href='vscode-notebook-cell:/c%3A/Users/angie/Desktop/Repositorio_mc/MetodosI_AngieChiquillo_SantiagoGuataquira/Taller%204.ipynb#W1sZmlsZQ%3D%3D?line=5'>6</a>\u001b[0m binomial\u001b[39m=\u001b[39m np\u001b[39m.\u001b[39mrandom\u001b[39m.\u001b[39mbinomial(n, p, size\u001b[39m=\u001b[39m N)  \n\u001b[0;32m      <a href='vscode-notebook-cell:/c%3A/Users/angie/Desktop/Repositorio_mc/MetodosI_AngieChiquillo_SantiagoGuataquira/Taller%204.ipynb#W1sZmlsZQ%3D%3D?line=6'>7</a>\u001b[0m binomial\n",
      "\u001b[1;31mNameError\u001b[0m: name 'np' is not defined"
     ]
    }
   ],
   "source": [
    "#Punto 1 parte 2\n",
    "\n",
    "n= 100000\n",
    "N= 2\n",
    "p= 0.6\n",
    "binomial= np.random.binomial(n, p, size= N)  \n",
    "\n",
    "\n",
    "\n",
    "\n"
   ]
  },
  {
   "cell_type": "code",
   "execution_count": 9,
   "metadata": {},
   "outputs": [
    {
     "ename": "SyntaxError",
     "evalue": "invalid syntax (1110259400.py, line 1)",
     "output_type": "error",
     "traceback": [
      "\u001b[1;36m  Cell \u001b[1;32mIn[9], line 1\u001b[1;36m\u001b[0m\n\u001b[1;33m    sudo pip3 install scipy\u001b[0m\n\u001b[1;37m         ^\u001b[0m\n\u001b[1;31mSyntaxError\u001b[0m\u001b[1;31m:\u001b[0m invalid syntax\n"
     ]
    }
   ],
   "source": [
    "#Punto 3\n",
    "def funcion (x):\n",
    "  f= (x**2)/3\n",
    "  return f\n",
    "\n",
    "#Probabilidad a\n",
    "a= sp.integrate.quad(funcion,0,1)\n",
    "print(a)\n",
    "\n",
    "#Probabilidad b\n",
    "b= sp.integrate.quad(funcion,1,2)\n",
    "print(b)\n",
    "\n",
    "#Normalización\n",
    "\n",
    "def normalizacion (x):\n",
    "  norm= 1/(36*36*(np.pi*2)**(1/2))*sym.exp(-0.5*((x-78)/(36))**2)\n",
    "  return norm\n",
    "\n",
    "x = sym.symbols(\"x\")\n",
    "funcion_n= normalizacion(x)\n",
    "norm= sym.integrate(funcion_n,(x,72,np.inf))\n",
    "print(\"la probabilidad de que una persona que haga el examen alcance calificaciones mayores de 72 es de \" + str(norm))\n",
    "\n",
    "#mínimo\n",
    "prob= sym.exp(-(x-78)**2/(2*6**2))/(6*sym.sqrt(2*sym.pi))\n",
    "min= sym.integrate(prob, (x, -sym.oo, x))\n",
    "min= sym.solve(min-0.9, x)\n",
    "print(\" la calificación mínima que un estudiante debe recibir para ganar una calificación de A es de \" + str(min[0]))\n",
    "\n",
    "#limite\n",
    "y= sym.symbols(\"y\")\n",
    "lim = sym.limit(funcion(x), x, sym.oo)\n",
    "lim"
   ]
  },
  {
   "cell_type": "code",
   "execution_count": 13,
   "metadata": {},
   "outputs": [
    {
     "data": {
      "text/plain": [
       "array([[0.8 , 0.05, 0.05, 0.1 ],\n",
       "       [0.  , 0.9 , 0.1 , 0.  ],\n",
       "       [0.  , 0.1 , 0.9 , 0.  ],\n",
       "       [0.2 , 0.1 , 0.  , 0.7 ]])"
      ]
     },
     "execution_count": 13,
     "metadata": {},
     "output_type": "execute_result"
    }
   ],
   "source": [
    "#Punto 4\n",
    "T= np.array([[0.4, 0.2, 0.2, 0.2],\n",
    "    [0.25, 0.25, 0.25, 0.25],\n",
    "    [0.3, 0.3, 0.1, 0.3],\n",
    "    [0.1, 0.1, 0.1, 0.7]])\n",
    "\n",
    "\n",
    "\n",
    "pi= np.array([0.25, 0., 0.5, 0.25])\n",
    "\n",
    "probg= pi[-1]*T[3][2]*T[2][1]*T[1][3]*T[3][1]*T[1][0]*T[0][0]*T[0][0]\n",
    "\n",
    "\n",
    "E = np.array([[0.8, 0., 0., 0.2],\n",
    "    [0.05, 0.9, 0.1, 0.1],\n",
    "    [0.05, 0.1, 0.9, 0.],\n",
    "    [0.1, 0., 0., 0.7]])\n",
    "E= E.T\n",
    "\n",
    "probg_T= E[3][3]*E[2][2]*E[1][1]*E[3][3]*E[1][1]*E[0][0]*E[0][0]*E[0][0]\n",
    "E"
   ]
  }
 ],
 "metadata": {
  "kernelspec": {
   "display_name": "Python 3",
   "language": "python",
   "name": "python3"
  },
  "language_info": {
   "codemirror_mode": {
    "name": "ipython",
    "version": 3
   },
   "file_extension": ".py",
   "mimetype": "text/x-python",
   "name": "python",
   "nbconvert_exporter": "python",
   "pygments_lexer": "ipython3",
   "version": "3.11.6"
  }
 },
 "nbformat": 4,
 "nbformat_minor": 2
}
